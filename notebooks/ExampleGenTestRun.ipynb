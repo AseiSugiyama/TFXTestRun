{
 "cells": [
  {
   "cell_type": "code",
   "execution_count": 1,
   "metadata": {},
   "outputs": [
    {
     "data": {
      "text/plain": [
       "'0.13.0'"
      ]
     },
     "execution_count": 1,
     "metadata": {},
     "output_type": "execute_result"
    }
   ],
   "source": [
    "import tfx\n",
    "tfx.version.__version__"
   ]
  },
  {
   "cell_type": "code",
   "execution_count": 10,
   "metadata": {},
   "outputs": [],
   "source": [
    "import tensorflow as tf"
   ]
  },
  {
   "cell_type": "code",
   "execution_count": 11,
   "metadata": {},
   "outputs": [
    {
     "data": {
      "text/plain": [
       "'1.13.1'"
      ]
     },
     "execution_count": 11,
     "metadata": {},
     "output_type": "execute_result"
    }
   ],
   "source": [
    "tf.__version__"
   ]
  },
  {
   "cell_type": "code",
   "execution_count": 2,
   "metadata": {},
   "outputs": [
    {
     "name": "stderr",
     "output_type": "stream",
     "text": [
      "/usr/local/lib/python3.5/dist-packages/apache_beam/__init__.py:84: UserWarning: Running the Apache Beam SDK on Python 3 is not yet fully supported. You may encounter buggy behavior or missing features.\n",
      "  'Running the Apache Beam SDK on Python 3 is not yet fully supported. '\n"
     ]
    }
   ],
   "source": [
    "from __future__ import absolute_import\n",
    "from __future__ import division\n",
    "from __future__ import print_function\n",
    "\n",
    "import datetime\n",
    "import logging\n",
    "import os\n",
    "from tfx.components.evaluator.component import Evaluator\n",
    "from tfx.components.example_gen.csv_example_gen.component import CsvExampleGen\n",
    "from tfx.components.example_validator.component import ExampleValidator\n",
    "from tfx.components.model_validator.component import ModelValidator\n",
    "from tfx.components.pusher.component import Pusher\n",
    "from tfx.components.schema_gen.component import SchemaGen\n",
    "from tfx.components.statistics_gen.component import StatisticsGen\n",
    "from tfx.components.trainer.component import Trainer\n",
    "from tfx.components.transform.component import Transform\n",
    "from tfx.orchestration import pipeline\n",
    "from tfx.orchestration.airflow.airflow_runner import AirflowDAGRunner\n",
    "from tfx.proto import evaluator_pb2\n",
    "from tfx.proto import pusher_pb2\n",
    "from tfx.proto import trainer_pb2\n",
    "from tfx.utils.dsl_utils import csv_input"
   ]
  },
  {
   "cell_type": "code",
   "execution_count": 3,
   "metadata": {},
   "outputs": [
    {
     "name": "stderr",
     "output_type": "stream",
     "text": [
      "--2019-06-11 10:07:01--  https://raw.githubusercontent.com/tensorflow/tfx/master/tfx/examples/chicago_taxi_pipeline/data/simple/data.csv\n",
      "Resolving raw.githubusercontent.com (raw.githubusercontent.com)... 151.101.108.133\n",
      "Connecting to raw.githubusercontent.com (raw.githubusercontent.com)|151.101.108.133|:443... connected.\n",
      "HTTP request sent, awaiting response... 200 OK\n",
      "Length: 1922668 (1.8M) [text/plain]\n",
      "Saving to: ‘taxi/simple/data.csv’\n",
      "\n",
      "     0K .......... .......... .......... .......... ..........  2% 1.97M 1s\n",
      "    50K .......... .......... .......... .......... ..........  5% 2.12M 1s\n",
      "   100K .......... .......... .......... .......... ..........  7% 3.03M 1s\n",
      "   150K .......... .......... .......... .......... .......... 10% 2.84M 1s\n",
      "   200K .......... .......... .......... .......... .......... 13% 4.09M 1s\n",
      "   250K .......... .......... .......... .......... .......... 15% 3.57M 1s\n",
      "   300K .......... .......... .......... .......... .......... 18% 4.33M 1s\n",
      "   350K .......... .......... .......... .......... .......... 21% 2.32M 1s\n",
      "   400K .......... .......... .......... .......... .......... 23% 3.71M 0s\n",
      "   450K .......... .......... .......... .......... .......... 26% 3.42M 0s\n",
      "   500K .......... .......... .......... .......... .......... 29% 2.83M 0s\n",
      "   550K .......... .......... .......... .......... .......... 31% 3.49M 0s\n",
      "   600K .......... .......... .......... .......... .......... 34% 3.09M 0s\n",
      "   650K .......... .......... .......... .......... .......... 37% 3.17M 0s\n",
      "   700K .......... .......... .......... .......... .......... 39% 3.86M 0s\n",
      "   750K .......... .......... .......... .......... .......... 42% 3.19M 0s\n",
      "   800K .......... .......... .......... .......... .......... 45% 4.29M 0s\n",
      "   850K .......... .......... .......... .......... .......... 47% 4.71M 0s\n",
      "   900K .......... .......... .......... .......... .......... 50% 3.88M 0s\n",
      "   950K .......... .......... .......... .......... .......... 53% 3.44M 0s\n",
      "  1000K .......... .......... .......... .......... .......... 55% 5.79M 0s\n",
      "  1050K .......... .......... .......... .......... .......... 58% 4.46M 0s\n",
      "  1100K .......... .......... .......... .......... .......... 61% 3.91M 0s\n",
      "  1150K .......... .......... .......... .......... .......... 63% 3.17M 0s\n",
      "  1200K .......... .......... .......... .......... .......... 66% 2.78M 0s\n",
      "  1250K .......... .......... .......... .......... .......... 69% 3.26M 0s\n",
      "  1300K .......... .......... .......... .......... .......... 71% 4.58M 0s\n",
      "  1350K .......... .......... .......... .......... .......... 74% 2.78M 0s\n",
      "  1400K .......... .......... .......... .......... .......... 77% 4.86M 0s\n",
      "  1450K .......... .......... .......... .......... .......... 79% 3.86M 0s\n",
      "  1500K .......... .......... .......... .......... .......... 82% 3.59M 0s\n",
      "  1550K .......... .......... .......... .......... .......... 85% 1.64M 0s\n",
      "  1600K .......... .......... .......... .......... .......... 87% 2.56M 0s\n",
      "  1650K .......... .......... .......... .......... .......... 90% 4.21M 0s\n",
      "  1700K .......... .......... .......... .......... .......... 93% 4.46M 0s\n",
      "  1750K .......... .......... .......... .......... .......... 95% 3.36M 0s\n",
      "  1800K .......... .......... .......... .......... .......... 98% 4.21M 0s\n",
      "  1850K .......... .......... .......                         100% 6.04M=0.6s\n",
      "\n",
      "2019-06-11 10:07:02 (3.32 MB/s) - ‘taxi/simple/data.csv’ saved [1922668/1922668]\n",
      "\n",
      "--2019-06-11 10:07:02--  https://raw.githubusercontent.com/tensorflow/tfx/master/tfx/examples/chicago_taxi_pipeline/taxi_utils.py\n",
      "Resolving raw.githubusercontent.com (raw.githubusercontent.com)... 151.101.108.133\n",
      "Connecting to raw.githubusercontent.com (raw.githubusercontent.com)|151.101.108.133|:443... connected.\n",
      "HTTP request sent, awaiting response... 200 OK\n",
      "Length: 12069 (12K) [text/plain]\n",
      "Saving to: ‘taxi/taxi_utils.py’\n",
      "\n",
      "     0K .......... .                                          100% 3.43M=0.003s\n",
      "\n",
      "2019-06-11 10:07:02 (3.43 MB/s) - ‘taxi/taxi_utils.py’ saved [12069/12069]\n",
      "\n"
     ]
    }
   ],
   "source": [
    "%%bash\n",
    "# download taxi data\n",
    "mkdir -p taxi/simple\n",
    "mkdir -p serving_model/taxi_simple\n",
    "wget https://raw.githubusercontent.com/tensorflow/tfx/master/tfx/examples/chicago_taxi_pipeline/data/simple/data.csv -O taxi/simple/data.csv\n",
    "\n",
    "# download \n",
    "wget https://raw.githubusercontent.com/tensorflow/tfx/master/tfx/examples/chicago_taxi_pipeline/taxi_utils.py -O taxi/taxi_utils.py"
   ]
  },
  {
   "cell_type": "code",
   "execution_count": 4,
   "metadata": {},
   "outputs": [],
   "source": [
    "# This example assumes that the taxi data is stored in ~/taxi/data and the\n",
    "# taxi utility function is in ~/taxi.  Feel free to customize this as needed.\n",
    "_taxi_root = os.path.join(os.environ['HOME'], 'taxi')\n",
    "_data_root = os.path.join(_taxi_root, 'data/simple')\n",
    "# Python module file to inject customized logic into the TFX components. The\n",
    "# Transform and Trainer both require user-defined functions to run successfully.\n",
    "_taxi_module_file = os.path.join(_taxi_root, 'taxi_utils.py')\n",
    "# Path which can be listened to by the model server.  Pusher will output the\n",
    "# trained model here.\n",
    "_serving_model_dir = os.path.join(_taxi_root, 'serving_model/taxi_simple')\n",
    "\n",
    "# Directory and data locations.  This example assumes all of the chicago taxi\n",
    "# example code and metadata library is relative to $HOME, but you can store\n",
    "# these files anywhere on your local filesystem.\n",
    "_tfx_root = os.path.join(os.environ['HOME'], 'tfx')\n",
    "_pipeline_root = os.path.join(_tfx_root, 'pipelines')\n",
    "_metadata_db_root = os.path.join(_tfx_root, 'metadata')\n",
    "_log_root = os.path.join(_tfx_root, 'logs')\n",
    "\n",
    "# Airflow-specific configs; these will be passed directly to airflow\n",
    "_airflow_config = {\n",
    "    'schedule_interval': None,\n",
    "    'start_date': datetime.datetime(2019, 1, 1),\n",
    "}\n",
    "\n",
    "# Logging overrides\n",
    "logger_overrides = {'log_root': _log_root, 'log_level': logging.INFO}"
   ]
  },
  {
   "cell_type": "code",
   "execution_count": 5,
   "metadata": {},
   "outputs": [],
   "source": [
    "\"\"\"Implements the chicago taxi pipeline with TFX.\"\"\"\n",
    "examples = csv_input(_data_root)\n",
    "\n",
    "# Brings data into the pipeline or otherwise joins/converts training data.\n",
    "example_gen = CsvExampleGen(input_base=examples)"
   ]
  },
  {
   "cell_type": "code",
   "execution_count": 6,
   "metadata": {},
   "outputs": [
    {
     "ename": "AttributeError",
     "evalue": "module 'tfx.proto.example_gen_pb2' has no attribute 'Input'",
     "output_type": "error",
     "traceback": [
      "\u001b[0;31m---------------------------------------------------------------------------\u001b[0m",
      "\u001b[0;31mAttributeError\u001b[0m                            Traceback (most recent call last)",
      "\u001b[0;32m<ipython-input-6-cc6bcc7c5a88>\u001b[0m in \u001b[0;36m<module>\u001b[0;34m\u001b[0m\n\u001b[1;32m      7\u001b[0m     \u001b[0;34m'input'\u001b[0m \u001b[0;34m:\u001b[0m\u001b[0;34m\u001b[0m\u001b[0m\n\u001b[1;32m      8\u001b[0m     json_format.MessageToJson(\n\u001b[0;32m----> 9\u001b[0;31m         example_gen_pb2.Input(splits=[\n\u001b[0m\u001b[1;32m     10\u001b[0m             example_gen_pb2.Input.Split(\n\u001b[1;32m     11\u001b[0m                 name='taxi', pattern='data/simple/*'),\n",
      "\u001b[0;31mAttributeError\u001b[0m: module 'tfx.proto.example_gen_pb2' has no attribute 'Input'"
     ]
    }
   ],
   "source": [
    "from google.protobuf import json_format\n",
    "from tfx.proto import example_gen_pb2\n",
    "\n",
    "input_dict = example_gen.input_dict\n",
    "output_dict = example_gen.outputs.get_all()\n",
    "exec_properties = {\n",
    "    'input' : \n",
    "    json_format.MessageToJson(\n",
    "        example_gen_pb2.Input(splits=[\n",
    "            example_gen_pb2.Input.Split(\n",
    "                name='taxi', pattern='data/simple/*'),\n",
    "        ])),\n",
    "    'output':\n",
    "    json_format.MessageToJson(\n",
    "        example_gen_pb2.Output(\n",
    "            split_config=example_gen_pb2.SplitConfig(splits=[\n",
    "                example_gen_pb2.SplitConfig.Split(\n",
    "                    name='train', hash_buckets=2),\n",
    "                example_gen_pb2.SplitConfig.Split(\n",
    "                    name='eval', hash_buckets=1)\n",
    "            ])))\n",
    "  }\n",
    "\n",
    "\n",
    "example_gen.Do(input_dict, output_dict, exec_properties)"
   ]
  },
  {
   "cell_type": "code",
   "execution_count": 12,
   "metadata": {},
   "outputs": [
    {
     "ename": "AttributeError",
     "evalue": "module 'tfx.proto.example_gen_pb2' has no attribute 'Input'",
     "output_type": "error",
     "traceback": [
      "\u001b[0;31m---------------------------------------------------------------------------\u001b[0m",
      "\u001b[0;31mAttributeError\u001b[0m                            Traceback (most recent call last)",
      "\u001b[0;32m<ipython-input-12-ab6185a458c6>\u001b[0m in \u001b[0;36m<module>\u001b[0;34m\u001b[0m\n\u001b[1;32m      3\u001b[0m \u001b[0;31m# Input train split is 'input_dir/train/*', eval split is 'input_dir/eval/*'.\u001b[0m\u001b[0;34m\u001b[0m\u001b[0;34m\u001b[0m\u001b[0m\n\u001b[1;32m      4\u001b[0m \u001b[0;31m# Output splits are generated one-to-one mapping from input splits.\u001b[0m\u001b[0;34m\u001b[0m\u001b[0;34m\u001b[0m\u001b[0m\n\u001b[0;32m----> 5\u001b[0;31m input = example_gen_pb2.Input(splits=[\n\u001b[0m\u001b[1;32m      6\u001b[0m                 \u001b[0mexample_gen_pb2\u001b[0m\u001b[0;34m.\u001b[0m\u001b[0mInput\u001b[0m\u001b[0;34m.\u001b[0m\u001b[0mSplit\u001b[0m\u001b[0;34m(\u001b[0m\u001b[0mname\u001b[0m\u001b[0;34m=\u001b[0m\u001b[0;34m'train'\u001b[0m\u001b[0;34m,\u001b[0m \u001b[0mpattern\u001b[0m\u001b[0;34m=\u001b[0m\u001b[0;34m'train/*'\u001b[0m\u001b[0;34m)\u001b[0m\u001b[0;34m,\u001b[0m\u001b[0;34m\u001b[0m\u001b[0m\n\u001b[1;32m      7\u001b[0m                 \u001b[0mexample_gen_pb2\u001b[0m\u001b[0;34m.\u001b[0m\u001b[0mInput\u001b[0m\u001b[0;34m.\u001b[0m\u001b[0mSplit\u001b[0m\u001b[0;34m(\u001b[0m\u001b[0mname\u001b[0m\u001b[0;34m=\u001b[0m\u001b[0;34m'eval'\u001b[0m\u001b[0;34m,\u001b[0m \u001b[0mpattern\u001b[0m\u001b[0;34m=\u001b[0m\u001b[0;34m'eval/*'\u001b[0m\u001b[0;34m)\u001b[0m\u001b[0;34m\u001b[0m\u001b[0m\n",
      "\u001b[0;31mAttributeError\u001b[0m: module 'tfx.proto.example_gen_pb2' has no attribute 'Input'"
     ]
    }
   ],
   "source": [
    "from  tfx.proto import example_gen_pb2\n",
    "\n",
    "# Input train split is 'input_dir/train/*', eval split is 'input_dir/eval/*'.\n",
    "# Output splits are generated one-to-one mapping from input splits.\n",
    "input = example_gen_pb2.Input(splits=[\n",
    "                example_gen_pb2.Input.Split(name='train', pattern='train/*'),\n",
    "                example_gen_pb2.Input.Split(name='eval', pattern='eval/*')\n",
    "            ])\n",
    "examples = csv_input(input_dir)"
   ]
  },
  {
   "cell_type": "code",
   "execution_count": 9,
   "metadata": {},
   "outputs": [
    {
     "name": "stdout",
     "output_type": "stream",
     "text": [
      "# Generated by the protocol buffer compiler.  DO NOT EDIT!\r\n",
      "# source: tfx/proto/example_gen.proto\r\n",
      "\r\n",
      "import sys\r\n",
      "_b=sys.version_info[0]<3 and (lambda x:x) or (lambda x:x.encode('latin1'))\r\n",
      "from google.protobuf import descriptor as _descriptor\r\n",
      "from google.protobuf import message as _message\r\n",
      "from google.protobuf import reflection as _reflection\r\n",
      "from google.protobuf import symbol_database as _symbol_database\r\n",
      "from google.protobuf import descriptor_pb2\r\n",
      "# @@protoc_insertion_point(imports)\r\n",
      "\r\n",
      "_sym_db = _symbol_database.Default()\r\n",
      "\r\n",
      "\r\n",
      "\r\n",
      "\r\n",
      "DESCRIPTOR = _descriptor.FileDescriptor(\r\n",
      "  name='tfx/proto/example_gen.proto',\r\n",
      "  package='tfx.components.example_gen',\r\n",
      "  syntax='proto3',\r\n",
      "  serialized_pb=_b('\\n\\x1btfx/proto/example_gen.proto\\x12\\x1atfx.components.example_gen\\\"Y\\n\\x06Output\\x12=\\n\\x0csplit_config\\x18\\x03 \\x01(\\x0b\\x32\\'.tfx.components.example_gen.SplitConfigJ\\x04\\x08\\x01\\x10\\x02J\\x04\\x08\\x02\\x10\\x03J\\x04\\x08\\x04\\x10\\x05\\\"\\x85\\x01\\n\\x0bSplitConfig\\x12=\\n\\x06splits\\x18\\x01 \\x03(\\x0b\\x32-.tfx.components.example_gen.SplitConfig.Split\\x1a\\x31\\n\\x05Split\\x12\\x0c\\n\\x04name\\x18\\x01 \\x01(\\t\\x12\\x14\\n\\x0chash_buckets\\x18\\x02 \\x01(\\rJ\\x04\\x08\\x03\\x10\\x04J\\x04\\x08\\x02\\x10\\x03\\x62\\x06proto3')\r\n",
      ")\r\n",
      "_sym_db.RegisterFileDescriptor(DESCRIPTOR)\r\n",
      "\r\n",
      "\r\n",
      "\r\n",
      "\r\n",
      "_OUTPUT = _descriptor.Descriptor(\r\n",
      "  name='Output',\r\n",
      "  full_name='tfx.components.example_gen.Output',\r\n",
      "  filename=None,\r\n",
      "  file=DESCRIPTOR,\r\n",
      "  containing_type=None,\r\n",
      "  fields=[\r\n",
      "    _descriptor.FieldDescriptor(\r\n",
      "      name='split_config', full_name='tfx.components.example_gen.Output.split_config', index=0,\r\n",
      "      number=3, type=11, cpp_type=10, label=1,\r\n",
      "      has_default_value=False, default_value=None,\r\n",
      "      message_type=None, enum_type=None, containing_type=None,\r\n",
      "      is_extension=False, extension_scope=None,\r\n",
      "      options=None),\r\n",
      "  ],\r\n",
      "  extensions=[\r\n",
      "  ],\r\n",
      "  nested_types=[],\r\n",
      "  enum_types=[\r\n",
      "  ],\r\n",
      "  options=None,\r\n",
      "  is_extendable=False,\r\n",
      "  syntax='proto3',\r\n",
      "  extension_ranges=[],\r\n",
      "  oneofs=[\r\n",
      "  ],\r\n",
      "  serialized_start=59,\r\n",
      "  serialized_end=148,\r\n",
      ")\r\n",
      "\r\n",
      "\r\n",
      "_SPLITCONFIG_SPLIT = _descriptor.Descriptor(\r\n",
      "  name='Split',\r\n",
      "  full_name='tfx.components.example_gen.SplitConfig.Split',\r\n",
      "  filename=None,\r\n",
      "  file=DESCRIPTOR,\r\n",
      "  containing_type=None,\r\n",
      "  fields=[\r\n",
      "    _descriptor.FieldDescriptor(\r\n",
      "      name='name', full_name='tfx.components.example_gen.SplitConfig.Split.name', index=0,\r\n",
      "      number=1, type=9, cpp_type=9, label=1,\r\n",
      "      has_default_value=False, default_value=_b(\"\").decode('utf-8'),\r\n",
      "      message_type=None, enum_type=None, containing_type=None,\r\n",
      "      is_extension=False, extension_scope=None,\r\n",
      "      options=None),\r\n",
      "    _descriptor.FieldDescriptor(\r\n",
      "      name='hash_buckets', full_name='tfx.components.example_gen.SplitConfig.Split.hash_buckets', index=1,\r\n",
      "      number=2, type=13, cpp_type=3, label=1,\r\n",
      "      has_default_value=False, default_value=0,\r\n",
      "      message_type=None, enum_type=None, containing_type=None,\r\n",
      "      is_extension=False, extension_scope=None,\r\n",
      "      options=None),\r\n",
      "  ],\r\n",
      "  extensions=[\r\n",
      "  ],\r\n",
      "  nested_types=[],\r\n",
      "  enum_types=[\r\n",
      "  ],\r\n",
      "  options=None,\r\n",
      "  is_extendable=False,\r\n",
      "  syntax='proto3',\r\n",
      "  extension_ranges=[],\r\n",
      "  oneofs=[\r\n",
      "  ],\r\n",
      "  serialized_start=229,\r\n",
      "  serialized_end=278,\r\n",
      ")\r\n",
      "\r\n",
      "_SPLITCONFIG = _descriptor.Descriptor(\r\n",
      "  name='SplitConfig',\r\n",
      "  full_name='tfx.components.example_gen.SplitConfig',\r\n",
      "  filename=None,\r\n",
      "  file=DESCRIPTOR,\r\n",
      "  containing_type=None,\r\n",
      "  fields=[\r\n",
      "    _descriptor.FieldDescriptor(\r\n",
      "      name='splits', full_name='tfx.components.example_gen.SplitConfig.splits', index=0,\r\n",
      "      number=1, type=11, cpp_type=10, label=3,\r\n",
      "      has_default_value=False, default_value=[],\r\n",
      "      message_type=None, enum_type=None, containing_type=None,\r\n",
      "      is_extension=False, extension_scope=None,\r\n",
      "      options=None),\r\n",
      "  ],\r\n",
      "  extensions=[\r\n",
      "  ],\r\n",
      "  nested_types=[_SPLITCONFIG_SPLIT, ],\r\n",
      "  enum_types=[\r\n",
      "  ],\r\n",
      "  options=None,\r\n",
      "  is_extendable=False,\r\n",
      "  syntax='proto3',\r\n",
      "  extension_ranges=[],\r\n",
      "  oneofs=[\r\n",
      "  ],\r\n",
      "  serialized_start=151,\r\n",
      "  serialized_end=284,\r\n",
      ")\r\n",
      "\r\n",
      "_OUTPUT.fields_by_name['split_config'].message_type = _SPLITCONFIG\r\n",
      "_SPLITCONFIG_SPLIT.containing_type = _SPLITCONFIG\r\n",
      "_SPLITCONFIG.fields_by_name['splits'].message_type = _SPLITCONFIG_SPLIT\r\n",
      "DESCRIPTOR.message_types_by_name['Output'] = _OUTPUT\r\n",
      "DESCRIPTOR.message_types_by_name['SplitConfig'] = _SPLITCONFIG\r\n",
      "\r\n",
      "Output = _reflection.GeneratedProtocolMessageType('Output', (_message.Message,), dict(\r\n",
      "  DESCRIPTOR = _OUTPUT,\r\n",
      "  __module__ = 'tfx.proto.example_gen_pb2'\r\n",
      "  # @@protoc_insertion_point(class_scope:tfx.components.example_gen.Output)\r\n",
      "  ))\r\n",
      "_sym_db.RegisterMessage(Output)\r\n",
      "\r\n",
      "SplitConfig = _reflection.GeneratedProtocolMessageType('SplitConfig', (_message.Message,), dict(\r\n",
      "\r\n",
      "  Split = _reflection.GeneratedProtocolMessageType('Split', (_message.Message,), dict(\r\n",
      "    DESCRIPTOR = _SPLITCONFIG_SPLIT,\r\n",
      "    __module__ = 'tfx.proto.example_gen_pb2'\r\n",
      "    # @@protoc_insertion_point(class_scope:tfx.components.example_gen.SplitConfig.Split)\r\n",
      "    ))\r\n",
      "  ,\r\n",
      "  DESCRIPTOR = _SPLITCONFIG,\r\n",
      "  __module__ = 'tfx.proto.example_gen_pb2'\r\n",
      "  # @@protoc_insertion_point(class_scope:tfx.components.example_gen.SplitConfig)\r\n",
      "  ))\r\n",
      "_sym_db.RegisterMessage(SplitConfig)\r\n",
      "_sym_db.RegisterMessage(SplitConfig.Split)\r\n",
      "\r\n",
      "\r\n",
      "# @@protoc_insertion_point(module_scope)\r\n"
     ]
    }
   ],
   "source": [
    "!cat /usr/local/lib/python3.5/dist-packages/tfx/proto/example_gen_pb2.py"
   ]
  },
  {
   "cell_type": "code",
   "execution_count": null,
   "metadata": {},
   "outputs": [],
   "source": []
  }
 ],
 "metadata": {
  "kernelspec": {
   "display_name": "Python 3",
   "language": "python",
   "name": "python3"
  },
  "language_info": {
   "codemirror_mode": {
    "name": "ipython",
    "version": 3
   },
   "file_extension": ".py",
   "mimetype": "text/x-python",
   "name": "python",
   "nbconvert_exporter": "python",
   "pygments_lexer": "ipython3",
   "version": "3.5.2"
  }
 },
 "nbformat": 4,
 "nbformat_minor": 2
}
