{
 "cells": [
  {
   "cell_type": "markdown",
   "metadata": {},
   "source": [
    "# StatisticsGen Test run\n",
    "\n",
    "## Set up\n",
    "\n",
    "TFX requires apache-airflow and docker SDK."
   ]
  },
  {
   "cell_type": "code",
   "execution_count": null,
   "metadata": {},
   "outputs": [],
   "source": [
    "!pip install 'apache-airflow[gcp]' docker tfx"
   ]
  },
  {
   "cell_type": "markdown",
   "metadata": {},
   "source": [
    "In this notebook, we use TFX version 0.13.0"
   ]
  },
  {
   "cell_type": "code",
   "execution_count": 1,
   "metadata": {},
   "outputs": [
    {
     "data": {
      "text/plain": [
       "'0.13.0'"
      ]
     },
     "execution_count": 1,
     "metadata": {},
     "output_type": "execute_result"
    }
   ],
   "source": [
    "import tfx\n",
    "tfx.version.__version__"
   ]
  },
  {
   "cell_type": "markdown",
   "metadata": {},
   "source": [
    "TFX requires TensorFlow >= 1.13.1"
   ]
  },
  {
   "cell_type": "code",
   "execution_count": 2,
   "metadata": {},
   "outputs": [
    {
     "data": {
      "text/plain": [
       "'1.13.1'"
      ]
     },
     "execution_count": 2,
     "metadata": {},
     "output_type": "execute_result"
    }
   ],
   "source": [
    "import tensorflow as tf\n",
    "tf.enable_eager_execution()\n",
    "tf.__version__"
   ]
  },
  {
   "cell_type": "markdown",
   "metadata": {},
   "source": [
    "TFX supports Python 3.5 from version 0.13.0"
   ]
  },
  {
   "cell_type": "code",
   "execution_count": 3,
   "metadata": {},
   "outputs": [
    {
     "data": {
      "text/plain": [
       "'3.5.2 (default, Nov 12 2018, 13:43:14) \\n[GCC 5.4.0 20160609]'"
      ]
     },
     "execution_count": 3,
     "metadata": {},
     "output_type": "execute_result"
    }
   ],
   "source": [
    "import sys\n",
    "sys.version"
   ]
  },
  {
   "cell_type": "markdown",
   "metadata": {},
   "source": [
    "## Download sample data"
   ]
  },
  {
   "cell_type": "code",
   "execution_count": 4,
   "metadata": {},
   "outputs": [
    {
     "name": "stderr",
     "output_type": "stream",
     "text": [
      "--2019-06-13 06:14:40--  https://raw.githubusercontent.com/tensorflow/tfx/master/tfx/examples/chicago_taxi_pipeline/data/simple/data.csv\n",
      "Resolving raw.githubusercontent.com (raw.githubusercontent.com)... 151.101.108.133\n",
      "Connecting to raw.githubusercontent.com (raw.githubusercontent.com)|151.101.108.133|:443... connected.\n",
      "HTTP request sent, awaiting response... 200 OK\n",
      "Length: 1922668 (1.8M) [text/plain]\n",
      "Saving to: ‘/root/taxi/data/simple/data.csv’\n",
      "\n",
      "     0K .......... .......... .......... .......... ..........  2% 3.81M 0s\n",
      "    50K .......... .......... .......... .......... ..........  5% 8.93M 0s\n",
      "   100K .......... .......... .......... .......... ..........  7% 23.1M 0s\n",
      "   150K .......... .......... .......... .......... .......... 10% 6.94M 0s\n",
      "   200K .......... .......... .......... .......... .......... 13% 3.32M 0s\n",
      "   250K .......... .......... .......... .......... .......... 15% 17.2M 0s\n",
      "   300K .......... .......... .......... .......... .......... 18% 14.7M 0s\n",
      "   350K .......... .......... .......... .......... .......... 21% 11.2M 0s\n",
      "   400K .......... .......... .......... .......... .......... 23% 7.41M 0s\n",
      "   450K .......... .......... .......... .......... .......... 26% 22.0M 0s\n",
      "   500K .......... .......... .......... .......... .......... 29% 23.9M 0s\n",
      "   550K .......... .......... .......... .......... .......... 31% 18.9M 0s\n",
      "   600K .......... .......... .......... .......... .......... 34% 18.0M 0s\n",
      "   650K .......... .......... .......... .......... .......... 37% 9.90M 0s\n",
      "   700K .......... .......... .......... .......... .......... 39% 15.3M 0s\n",
      "   750K .......... .......... .......... .......... .......... 42% 22.5M 0s\n",
      "   800K .......... .......... .......... .......... .......... 45% 17.7M 0s\n",
      "   850K .......... .......... .......... .......... .......... 47% 59.9M 0s\n",
      "   900K .......... .......... .......... .......... .......... 50% 25.5M 0s\n",
      "   950K .......... .......... .......... .......... .......... 53% 12.2M 0s\n",
      "  1000K .......... .......... .......... .......... .......... 55% 23.3M 0s\n",
      "  1050K .......... .......... .......... .......... .......... 58% 9.70M 0s\n",
      "  1100K .......... .......... .......... .......... .......... 61% 27.0M 0s\n",
      "  1150K .......... .......... .......... .......... .......... 63% 29.9M 0s\n",
      "  1200K .......... .......... .......... .......... .......... 66% 6.25M 0s\n",
      "  1250K .......... .......... .......... .......... .......... 69% 19.3M 0s\n",
      "  1300K .......... .......... .......... .......... .......... 71% 8.90M 0s\n",
      "  1350K .......... .......... .......... .......... .......... 74% 21.2M 0s\n",
      "  1400K .......... .......... .......... .......... .......... 77% 53.6M 0s\n",
      "  1450K .......... .......... .......... .......... .......... 79% 29.8M 0s\n",
      "  1500K .......... .......... .......... .......... .......... 82% 16.3M 0s\n",
      "  1550K .......... .......... .......... .......... .......... 85% 16.2M 0s\n",
      "  1600K .......... .......... .......... .......... .......... 87% 35.9M 0s\n",
      "  1650K .......... .......... .......... .......... .......... 90% 19.1M 0s\n",
      "  1700K .......... .......... .......... .......... .......... 93% 29.6M 0s\n",
      "  1750K .......... .......... .......... .......... .......... 95% 26.7M 0s\n",
      "  1800K .......... .......... .......... .......... .......... 98% 38.8M 0s\n",
      "  1850K .......... .......... .......                         100% 8.15M=0.1s\n",
      "\n",
      "2019-06-13 06:14:40 (13.3 MB/s) - ‘/root/taxi/data/simple/data.csv’ saved [1922668/1922668]\n",
      "\n",
      "--2019-06-13 06:14:40--  https://raw.githubusercontent.com/tensorflow/tfx/master/tfx/examples/chicago_taxi_pipeline/taxi_utils.py\n",
      "Resolving raw.githubusercontent.com (raw.githubusercontent.com)... 151.101.108.133\n",
      "Connecting to raw.githubusercontent.com (raw.githubusercontent.com)|151.101.108.133|:443... connected.\n",
      "HTTP request sent, awaiting response... 200 OK\n",
      "Length: 12084 (12K) [text/plain]\n",
      "Saving to: ‘/root/taxi/taxi_utils.py’\n",
      "\n",
      "     0K .......... .                                          100% 8.98M=0.001s\n",
      "\n",
      "2019-06-13 06:14:40 (8.98 MB/s) - ‘/root/taxi/taxi_utils.py’ saved [12084/12084]\n",
      "\n"
     ]
    }
   ],
   "source": [
    "%%bash\n",
    "# This enables you to run this notebook twice.\n",
    "# There should not be train/eval files at ~/taxi/data, since TFX can handle only single file with version 0.13.0\n",
    "if [ -e ~/taxi/data ]; then\n",
    "    rm -rf ~/taxi/data\n",
    "fi\n",
    "\n",
    "# download taxi data\n",
    "mkdir -p ~/taxi/data/simple\n",
    "mkdir -p ~/taxi/serving_model/taxi_simple\n",
    "wget https://raw.githubusercontent.com/tensorflow/tfx/master/tfx/examples/chicago_taxi_pipeline/data/simple/data.csv -O ~/taxi/data/simple/data.csv\n",
    "\n",
    "# download \n",
    "wget https://raw.githubusercontent.com/tensorflow/tfx/master/tfx/examples/chicago_taxi_pipeline/taxi_utils.py -O ~/taxi/taxi_utils.py"
   ]
  },
  {
   "cell_type": "markdown",
   "metadata": {},
   "source": [
    "## Import"
   ]
  },
  {
   "cell_type": "code",
   "execution_count": 5,
   "metadata": {},
   "outputs": [
    {
     "name": "stderr",
     "output_type": "stream",
     "text": [
      "/usr/local/lib/python3.5/dist-packages/apache_beam/__init__.py:84: UserWarning: Running the Apache Beam SDK on Python 3 is not yet fully supported. You may encounter buggy behavior or missing features.\n",
      "  'Running the Apache Beam SDK on Python 3 is not yet fully supported. '\n"
     ]
    }
   ],
   "source": [
    "from __future__ import absolute_import\n",
    "from __future__ import division\n",
    "from __future__ import print_function\n",
    "\n",
    "import datetime\n",
    "import logging\n",
    "import os\n",
    "from google.protobuf import json_format\n",
    "\n",
    "from tfx.components.base.base_component import ComponentOutputs\n",
    "from tfx.components.evaluator.component import Evaluator\n",
    "from tfx.components.example_gen.csv_example_gen.component import CsvExampleGen\n",
    "from tfx.components.example_validator.component import ExampleValidator\n",
    "from tfx.components.model_validator.component import ModelValidator\n",
    "from tfx.components.pusher.component import Pusher\n",
    "from tfx.components.schema_gen.component import SchemaGen\n",
    "from tfx.components.statistics_gen.component import StatisticsGen\n",
    "from tfx.components.trainer.component import Trainer\n",
    "from tfx.components.transform.component import Transform\n",
    "from tfx.orchestration import pipeline\n",
    "from tfx.orchestration.airflow.airflow_runner import AirflowDAGRunner\n",
    "from tfx.proto import evaluator_pb2\n",
    "from tfx.proto import example_gen_pb2\n",
    "from tfx.proto import pusher_pb2\n",
    "from tfx.proto import trainer_pb2\n",
    "from tfx.utils.dsl_utils import csv_input\n",
    "from tfx.utils.channel import Channel\n",
    "from tfx.utils import types"
   ]
  },
  {
   "cell_type": "markdown",
   "metadata": {},
   "source": [
    "## configs"
   ]
  },
  {
   "cell_type": "code",
   "execution_count": 6,
   "metadata": {},
   "outputs": [],
   "source": [
    "# This example assumes that the taxi data is stored in ~/taxi/data and the\n",
    "# taxi utility function is in ~/taxi.  Feel free to customize this as needed.\n",
    "_taxi_root = os.path.join(os.environ['HOME'], 'taxi')\n",
    "_data_root = os.path.join(_taxi_root, 'data/simple')\n",
    "# Python module file to inject customized logic into the TFX components. The\n",
    "# Transform and Trainer both require user-defined functions to run successfully.\n",
    "_taxi_module_file = os.path.join(_taxi_root, 'taxi_utils.py')\n",
    "# Path which can be listened to by the model server.  Pusher will output the\n",
    "# trained model here.\n",
    "_serving_model_dir = os.path.join(_taxi_root, 'serving_model/taxi_simple')\n",
    "\n",
    "# Directory and data locations.  This example assumes all of the chicago taxi\n",
    "# example code and metadata library is relative to $HOME, but you can store\n",
    "# these files anywhere on your local filesystem.\n",
    "_tfx_root = os.path.join(os.environ['HOME'], 'tfx')\n",
    "_pipeline_root = os.path.join(_tfx_root, 'pipelines')\n",
    "_metadata_db_root = os.path.join(_tfx_root, 'metadata')\n",
    "_log_root = os.path.join(_tfx_root, 'logs')\n",
    "\n",
    "# Airflow-specific configs; these will be passed directly to airflow\n",
    "_airflow_config = {\n",
    "    'schedule_interval': None,\n",
    "    'start_date': datetime.datetime(2019, 1, 1),\n",
    "}\n",
    "\n",
    "# Logging overrides\n",
    "logger_overrides = {'log_root': _log_root, 'log_level': logging.INFO}"
   ]
  },
  {
   "cell_type": "markdown",
   "metadata": {},
   "source": [
    "## Create ExampleGen"
   ]
  },
  {
   "cell_type": "code",
   "execution_count": 7,
   "metadata": {},
   "outputs": [],
   "source": [
    "\"\"\"Implements the chicago taxi pipeline with TFX.\"\"\"\n",
    "examples = csv_input(_data_root)\n",
    "\n",
    "# Brings data into the pipeline or otherwise joins/converts training data.\n",
    "train_config = example_gen_pb2.SplitConfig.Split(name='train', hash_buckets=2)\n",
    "eval_config = example_gen_pb2.SplitConfig.Split(name='eval', hash_buckets=1)\n",
    "output_config = example_gen_pb2.Output(\n",
    "    split_config=example_gen_pb2.SplitConfig(splits=[\n",
    "        train_config,\n",
    "        eval_config\n",
    "    ]))\n",
    "\n",
    "# Create outputs\n",
    "train_examples = types.TfxType(type_name='ExamplesPath', split='train')\n",
    "train_examples.uri = os.path.join(_data_root, 'train/')\n",
    "\n",
    "eval_examples = types.TfxType(type_name='ExamplesPath', split='eval')\n",
    "eval_examples.uri = os.path.join(_data_root, 'eval/')\n",
    "\n",
    "output_dict = {'examples': Channel(\n",
    "    type_name='ExamplesPath',\n",
    "    static_artifact_collection=[train_examples, eval_examples])}\n",
    "\n",
    "outputs = ComponentOutputs(output_dict)\n",
    "\n",
    "example_gen = CsvExampleGen(input_base=examples, output_config=output_config, outputs=outputs)"
   ]
  },
  {
   "cell_type": "markdown",
   "metadata": {},
   "source": [
    "## Create StatisticsGen"
   ]
  },
  {
   "cell_type": "code",
   "execution_count": 8,
   "metadata": {},
   "outputs": [],
   "source": [
    "# Create outputs\n",
    "train_statistics = types.TfxType(type_name='ExampleStatisticsPath', split='train')\n",
    "train_statistics.uri = os.path.join(_data_root, 'train/stats/')\n",
    "\n",
    "eval_statistics = types.TfxType(type_name='ExampleStatisticsPath', split='eval')\n",
    "eval_statistics.uri = os.path.join(_data_root, 'eval/stats/')\n",
    "\n",
    "output_dict = {'output': Channel(\n",
    "    type_name='ExampleStatisticsPath',\n",
    "    static_artifact_collection=[train_statistics, eval_statistics])}\n",
    "\n",
    "outputs = ComponentOutputs(output_dict)\n",
    "\n",
    "statistics_gen = StatisticsGen(\n",
    "    input_data=example_gen.outputs.examples,\n",
    "    name='Statistics Generator', # Optional, name should be unique if you are going to use multiple StatisticsGen in same pipeline.\n",
    "    outputs=outputs\n",
    ")"
   ]
  },
  {
   "cell_type": "markdown",
   "metadata": {},
   "source": [
    "## Execute"
   ]
  },
  {
   "cell_type": "code",
   "execution_count": 9,
   "metadata": {},
   "outputs": [
    {
     "name": "stdout",
     "output_type": "stream",
     "text": [
      "INFO:tensorflow:Starting Executor execution.\n",
      "[2019-06-13 06:14:50,756] {base_executor.py:72} INFO - Starting Executor execution.\n",
      "INFO:tensorflow:Inputs for Executor is: {\"input-base\": [{\"artifact\": {\"uri\": \"/root/taxi/data/simple\", \"properties\": {\"split\": {\"stringValue\": \"\"}, \"type_name\": {\"stringValue\": \"ExternalPath\"}}}, \"artifact_type\": {\"name\": \"ExternalPath\", \"properties\": {\"name\": \"STRING\", \"state\": \"STRING\", \"type_name\": \"STRING\", \"span\": \"INT\", \"split\": \"STRING\"}}}]}\n",
      "[2019-06-13 06:14:50,765] {base_executor.py:74} INFO - Inputs for Executor is: {\"input-base\": [{\"artifact\": {\"uri\": \"/root/taxi/data/simple\", \"properties\": {\"split\": {\"stringValue\": \"\"}, \"type_name\": {\"stringValue\": \"ExternalPath\"}}}, \"artifact_type\": {\"name\": \"ExternalPath\", \"properties\": {\"name\": \"STRING\", \"state\": \"STRING\", \"type_name\": \"STRING\", \"span\": \"INT\", \"split\": \"STRING\"}}}]}\n",
      "INFO:tensorflow:Outputs for Executor is: {\"examples\": [{\"artifact\": {\"uri\": \"/root/taxi/data/simple/train/\", \"properties\": {\"split\": {\"stringValue\": \"train\"}, \"type_name\": {\"stringValue\": \"ExamplesPath\"}}}, \"artifact_type\": {\"name\": \"ExamplesPath\", \"properties\": {\"name\": \"STRING\", \"state\": \"STRING\", \"split\": \"STRING\", \"span\": \"INT\", \"type_name\": \"STRING\"}}}, {\"artifact\": {\"uri\": \"/root/taxi/data/simple/eval/\", \"properties\": {\"type_name\": {\"stringValue\": \"ExamplesPath\"}, \"split\": {\"stringValue\": \"eval\"}}}, \"artifact_type\": {\"name\": \"ExamplesPath\", \"properties\": {\"name\": \"STRING\", \"state\": \"STRING\", \"split\": \"STRING\", \"span\": \"INT\", \"type_name\": \"STRING\"}}}]}\n",
      "[2019-06-13 06:14:50,770] {base_executor.py:76} INFO - Outputs for Executor is: {\"examples\": [{\"artifact\": {\"uri\": \"/root/taxi/data/simple/train/\", \"properties\": {\"split\": {\"stringValue\": \"train\"}, \"type_name\": {\"stringValue\": \"ExamplesPath\"}}}, \"artifact_type\": {\"name\": \"ExamplesPath\", \"properties\": {\"name\": \"STRING\", \"state\": \"STRING\", \"split\": \"STRING\", \"span\": \"INT\", \"type_name\": \"STRING\"}}}, {\"artifact\": {\"uri\": \"/root/taxi/data/simple/eval/\", \"properties\": {\"type_name\": {\"stringValue\": \"ExamplesPath\"}, \"split\": {\"stringValue\": \"eval\"}}}, \"artifact_type\": {\"name\": \"ExamplesPath\", \"properties\": {\"name\": \"STRING\", \"state\": \"STRING\", \"split\": \"STRING\", \"span\": \"INT\", \"type_name\": \"STRING\"}}}]}\n",
      "INFO:tensorflow:Execution properties for Executor is: {\"output\": \"{\\n  \\\"splitConfig\\\": {\\n    \\\"splits\\\": [\\n      {\\n        \\\"name\\\": \\\"train\\\",\\n        \\\"hashBuckets\\\": 2\\n      },\\n      {\\n        \\\"name\\\": \\\"eval\\\",\\n        \\\"hashBuckets\\\": 1\\n      }\\n    ]\\n  }\\n}\"}\n",
      "[2019-06-13 06:14:50,773] {base_executor.py:78} INFO - Execution properties for Executor is: {\"output\": \"{\\n  \\\"splitConfig\\\": {\\n    \\\"splits\\\": [\\n      {\\n        \\\"name\\\": \\\"train\\\",\\n        \\\"hashBuckets\\\": 2\\n      },\\n      {\\n        \\\"name\\\": \\\"eval\\\",\\n        \\\"hashBuckets\\\": 1\\n      }\\n    ]\\n  }\\n}\"}\n",
      "INFO:tensorflow:Generating examples.\n",
      "[2019-06-13 06:14:50,777] {base_example_gen_executor.py:122} INFO - Generating examples.\n",
      "[2019-06-13 06:14:50,786] {pipeline.py:143} INFO - Missing pipeline option (runner). Executing pipeline using the default runner: DirectRunner.\n",
      "INFO:tensorflow:Processing input csv data /root/taxi/data/simple/data.csv to TFExample.\n",
      "[2019-06-13 06:14:50,801] {executor.py:70} INFO - Processing input csv data /root/taxi/data/simple/data.csv to TFExample.\n",
      "[2019-06-13 06:14:51,637] {fn_api_runner_transforms.py:490} INFO - ==================== <function annotate_downstream_side_inputs at 0x7f6bdd83e598> ====================\n",
      "[2019-06-13 06:14:51,643] {fn_api_runner_transforms.py:490} INFO - ==================== <function fix_side_input_pcoll_coders at 0x7f6bdd83e6a8> ====================\n",
      "[2019-06-13 06:14:51,648] {fn_api_runner_transforms.py:490} INFO - ==================== <function lift_combiners at 0x7f6bdd83e730> ====================\n",
      "[2019-06-13 06:14:51,652] {fn_api_runner_transforms.py:490} INFO - ==================== <function expand_sdf at 0x7f6bdd83e7b8> ====================\n",
      "[2019-06-13 06:14:51,657] {fn_api_runner_transforms.py:490} INFO - ==================== <function expand_gbk at 0x7f6bdd83e840> ====================\n",
      "[2019-06-13 06:14:51,661] {fn_api_runner_transforms.py:490} INFO - ==================== <function sink_flattens at 0x7f6bdd83e950> ====================\n",
      "[2019-06-13 06:14:51,663] {fn_api_runner_transforms.py:490} INFO - ==================== <function greedily_fuse at 0x7f6bdd83e9d8> ====================\n",
      "[2019-06-13 06:14:51,673] {fn_api_runner_transforms.py:490} INFO - ==================== <function read_to_impulse at 0x7f6bdd83ea60> ====================\n",
      "[2019-06-13 06:14:51,678] {fn_api_runner_transforms.py:490} INFO - ==================== <function impulse_to_input at 0x7f6bdd83eae8> ====================\n",
      "[2019-06-13 06:14:51,681] {fn_api_runner_transforms.py:490} INFO - ==================== <function inject_timer_pcollections at 0x7f6bdd83ec80> ====================\n",
      "[2019-06-13 06:14:51,688] {fn_api_runner_transforms.py:490} INFO - ==================== <function sort_stages at 0x7f6bdd83ed08> ====================\n",
      "[2019-06-13 06:14:51,690] {fn_api_runner_transforms.py:490} INFO - ==================== <function window_pcollection_coders at 0x7f6bdd83ed90> ====================\n",
      "[2019-06-13 06:14:51,703] {fn_api_runner.py:437} INFO - Running (ref_AppliedPTransform_InputSourceToExample/ReadFromText/Read_4)+((((ref_AppliedPTransform_InputSourceToExample/ParseCSV/ParseCSVRecords_6)+(ref_AppliedPTransform_InputSourceToExample/ParseCSV/InferFeatureTypes/KeyWithVoid_8))+(ref_PCollection_PCollection_2/Write))+((InputSourceToExample/ParseCSV/InferFeatureTypes/CombinePerKey/Precombine)+(InputSourceToExample/ParseCSV/InferFeatureTypes/CombinePerKey/Group/Write)))\n",
      "[2019-06-13 06:14:52,875] {fn_api_runner.py:437} INFO - Running ((InputSourceToExample/ParseCSV/InferFeatureTypes/CombinePerKey/Group/Read)+(((InputSourceToExample/ParseCSV/InferFeatureTypes/CombinePerKey/Merge)+(InputSourceToExample/ParseCSV/InferFeatureTypes/CombinePerKey/ExtractOutputs))+(ref_AppliedPTransform_InputSourceToExample/ParseCSV/InferFeatureTypes/UnKey_16)))+(ref_PCollection_PCollection_8/Write)\n",
      "[2019-06-13 06:14:52,892] {fn_api_runner.py:437} INFO - Running ((ref_AppliedPTransform_InputSourceToExample/ParseCSV/InferFeatureTypes/DoOnce/Read_18)+(ref_AppliedPTransform_InputSourceToExample/ParseCSV/InferFeatureTypes/InjectDefault_19))+(ref_PCollection_PCollection_10/Write)\n",
      "[2019-06-13 06:14:52,908] {fn_api_runner.py:437} INFO - Running ((ref_PCollection_PCollection_2/Read)+(((((ref_AppliedPTransform_InputSourceToExample/ParseCSV/CreateInMemoryDict_20)+(ref_AppliedPTransform_InputSourceToExample/ToTFExample_21))+(((ref_AppliedPTransform_SerializeDeterministically_22)+((ref_AppliedPTransform_SplitData/ParDo(ApplyPartitionFnFn)/ParDo(ApplyPartitionFnFn)_25)+(ref_AppliedPTransform_ShuffleSplittrain/AddRandomKeys_27)))+(ref_AppliedPTransform_ShuffleSplittrain/ReshufflePerKey/Map(reify_timestamps)_29)))+(ref_AppliedPTransform_ShuffleSpliteval/AddRandomKeys_53))+((ref_AppliedPTransform_ShuffleSpliteval/ReshufflePerKey/Map(reify_timestamps)_55)+(ShuffleSpliteval/ReshufflePerKey/GroupByKey/Write))))+(ShuffleSplittrain/ReshufflePerKey/GroupByKey/Write)\n",
      "[2019-06-13 06:14:59,084] {fn_api_runner.py:437} INFO - Running ((ref_AppliedPTransform_OutputSpliteval/Write/WriteImpl/DoOnce/Read_66)+((ref_AppliedPTransform_OutputSpliteval/Write/WriteImpl/InitializeWrite_67)+(ref_PCollection_PCollection_43/Write)))+(ref_PCollection_PCollection_42/Write)\n",
      "[2019-06-13 06:14:59,100] {fn_api_runner.py:437} INFO - Running ((((ShuffleSpliteval/ReshufflePerKey/GroupByKey/Read)+(ref_AppliedPTransform_ShuffleSpliteval/ReshufflePerKey/FlatMap(restore_timestamps)_60))+(ref_AppliedPTransform_ShuffleSpliteval/RemoveRandomKeys_61))+((ref_AppliedPTransform_OutputSpliteval/Write/WriteImpl/WriteBundles_68)+(ref_AppliedPTransform_OutputSpliteval/Write/WriteImpl/Pair_69)))+((ref_AppliedPTransform_OutputSpliteval/Write/WriteImpl/WindowInto(WindowIntoFn)_70)+(OutputSpliteval/Write/WriteImpl/GroupByKey/Write))\n",
      "[2019-06-13 06:14:59,197] {tfrecordio.py:57} WARNING - Couldn't find python-snappy so the implementation of _TFRecordUtil._masked_crc32c is not as fast as it could be.\n",
      "[2019-06-13 06:14:59,382] {fn_api_runner.py:437} INFO - Running ((OutputSpliteval/Write/WriteImpl/GroupByKey/Read)+(ref_AppliedPTransform_OutputSpliteval/Write/WriteImpl/Extract_75))+(ref_PCollection_PCollection_50/Write)\n"
     ]
    },
    {
     "name": "stdout",
     "output_type": "stream",
     "text": [
      "[2019-06-13 06:14:59,398] {fn_api_runner.py:437} INFO - Running (ref_PCollection_PCollection_42/Read)+((ref_AppliedPTransform_OutputSpliteval/Write/WriteImpl/PreFinalize_76)+(ref_PCollection_PCollection_51/Write))\n",
      "[2019-06-13 06:14:59,432] {fn_api_runner.py:437} INFO - Running (ref_PCollection_PCollection_42/Read)+(ref_AppliedPTransform_OutputSpliteval/Write/WriteImpl/FinalizeWrite_77)\n",
      "[2019-06-13 06:14:59,443] {filebasedsink.py:290} INFO - Starting finalize_write threads with num_shards: 1 (skipped: 0), batches: 1, num_threads: 1\n",
      "[2019-06-13 06:14:59,548] {filebasedsink.py:327} INFO - Renamed 1 shards in 0.10 seconds.\n",
      "[2019-06-13 06:14:59,571] {fn_api_runner.py:437} INFO - Running ((ref_AppliedPTransform_OutputSplittrain/Write/WriteImpl/DoOnce/Read_40)+((ref_AppliedPTransform_OutputSplittrain/Write/WriteImpl/InitializeWrite_41)+(ref_PCollection_PCollection_25/Write)))+(ref_PCollection_PCollection_24/Write)\n",
      "[2019-06-13 06:14:59,602] {fn_api_runner.py:437} INFO - Running ((ShuffleSplittrain/ReshufflePerKey/GroupByKey/Read)+(ref_AppliedPTransform_ShuffleSplittrain/ReshufflePerKey/FlatMap(restore_timestamps)_34))+(((ref_AppliedPTransform_ShuffleSplittrain/RemoveRandomKeys_35)+((ref_AppliedPTransform_OutputSplittrain/Write/WriteImpl/WriteBundles_42)+((ref_AppliedPTransform_OutputSplittrain/Write/WriteImpl/Pair_43)+(ref_AppliedPTransform_OutputSplittrain/Write/WriteImpl/WindowInto(WindowIntoFn)_44))))+(OutputSplittrain/Write/WriteImpl/GroupByKey/Write))\n",
      "[2019-06-13 06:15:00,184] {fn_api_runner.py:437} INFO - Running (OutputSplittrain/Write/WriteImpl/GroupByKey/Read)+((ref_AppliedPTransform_OutputSplittrain/Write/WriteImpl/Extract_49)+(ref_PCollection_PCollection_32/Write))\n",
      "[2019-06-13 06:15:00,200] {fn_api_runner.py:437} INFO - Running ((ref_PCollection_PCollection_24/Read)+(ref_AppliedPTransform_OutputSplittrain/Write/WriteImpl/PreFinalize_50))+(ref_PCollection_PCollection_33/Write)\n",
      "[2019-06-13 06:15:00,222] {fn_api_runner.py:437} INFO - Running (ref_PCollection_PCollection_24/Read)+(ref_AppliedPTransform_OutputSplittrain/Write/WriteImpl/FinalizeWrite_51)\n",
      "[2019-06-13 06:15:00,237] {filebasedsink.py:290} INFO - Starting finalize_write threads with num_shards: 1 (skipped: 0), batches: 1, num_threads: 1\n",
      "[2019-06-13 06:15:00,344] {filebasedsink.py:327} INFO - Renamed 1 shards in 0.11 seconds.\n",
      "INFO:tensorflow:Examples generated.\n",
      "[2019-06-13 06:15:00,365] {base_example_gen_executor.py:145} INFO - Examples generated.\n",
      "INFO:tensorflow:Starting Executor execution.\n",
      "[2019-06-13 06:15:00,369] {base_executor.py:72} INFO - Starting Executor execution.\n",
      "INFO:tensorflow:Inputs for Executor is: {\"input_data\": [{\"artifact\": {\"uri\": \"/root/taxi/data/simple/train/\", \"properties\": {\"split\": {\"stringValue\": \"train\"}, \"type_name\": {\"stringValue\": \"ExamplesPath\"}}}, \"artifact_type\": {\"name\": \"ExamplesPath\", \"properties\": {\"name\": \"STRING\", \"state\": \"STRING\", \"split\": \"STRING\", \"span\": \"INT\", \"type_name\": \"STRING\"}}}, {\"artifact\": {\"uri\": \"/root/taxi/data/simple/eval/\", \"properties\": {\"type_name\": {\"stringValue\": \"ExamplesPath\"}, \"split\": {\"stringValue\": \"eval\"}}}, \"artifact_type\": {\"name\": \"ExamplesPath\", \"properties\": {\"name\": \"STRING\", \"state\": \"STRING\", \"split\": \"STRING\", \"span\": \"INT\", \"type_name\": \"STRING\"}}}]}\n",
      "[2019-06-13 06:15:00,375] {base_executor.py:74} INFO - Inputs for Executor is: {\"input_data\": [{\"artifact\": {\"uri\": \"/root/taxi/data/simple/train/\", \"properties\": {\"split\": {\"stringValue\": \"train\"}, \"type_name\": {\"stringValue\": \"ExamplesPath\"}}}, \"artifact_type\": {\"name\": \"ExamplesPath\", \"properties\": {\"name\": \"STRING\", \"state\": \"STRING\", \"split\": \"STRING\", \"span\": \"INT\", \"type_name\": \"STRING\"}}}, {\"artifact\": {\"uri\": \"/root/taxi/data/simple/eval/\", \"properties\": {\"type_name\": {\"stringValue\": \"ExamplesPath\"}, \"split\": {\"stringValue\": \"eval\"}}}, \"artifact_type\": {\"name\": \"ExamplesPath\", \"properties\": {\"name\": \"STRING\", \"state\": \"STRING\", \"split\": \"STRING\", \"span\": \"INT\", \"type_name\": \"STRING\"}}}]}\n",
      "INFO:tensorflow:Outputs for Executor is: {\"output\": [{\"artifact\": {\"uri\": \"/root/taxi/data/simple/train/stats/\", \"properties\": {\"type_name\": {\"stringValue\": \"ExampleStatisticsPath\"}, \"split\": {\"stringValue\": \"train\"}}}, \"artifact_type\": {\"name\": \"ExampleStatisticsPath\", \"properties\": {\"name\": \"STRING\", \"state\": \"STRING\", \"type_name\": \"STRING\", \"span\": \"INT\", \"split\": \"STRING\"}}}, {\"artifact\": {\"uri\": \"/root/taxi/data/simple/eval/stats/\", \"properties\": {\"split\": {\"stringValue\": \"eval\"}, \"type_name\": {\"stringValue\": \"ExampleStatisticsPath\"}}}, \"artifact_type\": {\"name\": \"ExampleStatisticsPath\", \"properties\": {\"name\": \"STRING\", \"state\": \"STRING\", \"type_name\": \"STRING\", \"span\": \"INT\", \"split\": \"STRING\"}}}]}\n",
      "[2019-06-13 06:15:00,380] {base_executor.py:76} INFO - Outputs for Executor is: {\"output\": [{\"artifact\": {\"uri\": \"/root/taxi/data/simple/train/stats/\", \"properties\": {\"type_name\": {\"stringValue\": \"ExampleStatisticsPath\"}, \"split\": {\"stringValue\": \"train\"}}}, \"artifact_type\": {\"name\": \"ExampleStatisticsPath\", \"properties\": {\"name\": \"STRING\", \"state\": \"STRING\", \"type_name\": \"STRING\", \"span\": \"INT\", \"split\": \"STRING\"}}}, {\"artifact\": {\"uri\": \"/root/taxi/data/simple/eval/stats/\", \"properties\": {\"split\": {\"stringValue\": \"eval\"}, \"type_name\": {\"stringValue\": \"ExampleStatisticsPath\"}}}, \"artifact_type\": {\"name\": \"ExampleStatisticsPath\", \"properties\": {\"name\": \"STRING\", \"state\": \"STRING\", \"type_name\": \"STRING\", \"span\": \"INT\", \"split\": \"STRING\"}}}]}\n",
      "INFO:tensorflow:Execution properties for Executor is: {}\n",
      "[2019-06-13 06:15:00,382] {base_executor.py:78} INFO - Execution properties for Executor is: {}\n",
      "[2019-06-13 06:15:00,404] {pipeline.py:143} INFO - Missing pipeline option (runner). Executing pipeline using the default runner: DirectRunner.\n",
      "INFO:tensorflow:Generating statistics for split eval\n",
      "[2019-06-13 06:15:00,421] {executor.py:62} INFO - Generating statistics for split eval\n",
      "INFO:tensorflow:Generating statistics for split train\n",
      "[2019-06-13 06:15:01,149] {executor.py:62} INFO - Generating statistics for split train\n",
      "INFO:tensorflow:Statistics written to /root/taxi/data/simple/train/stats/.\n",
      "[2019-06-13 06:15:02,217] {executor.py:78} INFO - Statistics written to /root/taxi/data/simple/train/stats/.\n",
      "[2019-06-13 06:15:05,572] {fn_api_runner_transforms.py:490} INFO - ==================== <function annotate_downstream_side_inputs at 0x7f6bdd83e598> ====================\n",
      "[2019-06-13 06:15:05,575] {fn_api_runner_transforms.py:490} INFO - ==================== <function fix_side_input_pcoll_coders at 0x7f6bdd83e6a8> ====================\n",
      "[2019-06-13 06:15:05,578] {fn_api_runner_transforms.py:490} INFO - ==================== <function lift_combiners at 0x7f6bdd83e730> ====================\n",
      "[2019-06-13 06:15:05,585] {fn_api_runner_transforms.py:490} INFO - ==================== <function expand_sdf at 0x7f6bdd83e7b8> ====================\n",
      "[2019-06-13 06:15:05,589] {fn_api_runner_transforms.py:490} INFO - ==================== <function expand_gbk at 0x7f6bdd83e840> ====================\n",
      "[2019-06-13 06:15:05,594] {fn_api_runner_transforms.py:490} INFO - ==================== <function sink_flattens at 0x7f6bdd83e950> ====================\n",
      "[2019-06-13 06:15:05,599] {fn_api_runner_transforms.py:490} INFO - ==================== <function greedily_fuse at 0x7f6bdd83e9d8> ====================\n",
      "[2019-06-13 06:15:05,610] {fn_api_runner_transforms.py:490} INFO - ==================== <function read_to_impulse at 0x7f6bdd83ea60> ====================\n",
      "[2019-06-13 06:15:05,613] {fn_api_runner_transforms.py:490} INFO - ==================== <function impulse_to_input at 0x7f6bdd83eae8> ====================\n",
      "[2019-06-13 06:15:05,616] {fn_api_runner_transforms.py:490} INFO - ==================== <function inject_timer_pcollections at 0x7f6bdd83ec80> ====================\n",
      "[2019-06-13 06:15:05,624] {fn_api_runner_transforms.py:490} INFO - ==================== <function sort_stages at 0x7f6bdd83ed08> ====================\n",
      "[2019-06-13 06:15:05,626] {fn_api_runner_transforms.py:490} INFO - ==================== <function window_pcollection_coders at 0x7f6bdd83ed90> ====================\n",
      "[2019-06-13 06:15:05,659] {fn_api_runner.py:437} INFO - Running ((ref_AppliedPTransform_ReadData.train/Read_106)+(ref_AppliedPTransform_DecodeData.train/ParseTFExamples_108))+(((((ref_AppliedPTransform_GenerateStatistics.train/RunStatsGenerators/KeyWithVoid_111)+(ref_AppliedPTransform_GenerateStatistics.train/RunStatsGenerators/GenerateSlicedStatisticsImpl/BasicStatsGenerator/ParDo(SplitHotCold)/ParDo(SplitHotCold)_115))+((((ref_AppliedPTransform_GenerateStatistics.train/RunStatsGenerators/GenerateSlicedStatisticsImpl/TopKUniquesStatsGenerator/TopKUniques_ConvertInputToFeatureValuesWithWeights_135)+(ref_AppliedPTransform_GenerateStatistics.train/RunStatsGenerators/GenerateSlicedStatisticsImpl/TopKUniquesStatsGenerator/TopKUniques_FlattenToSlicedFeatureNameValueTuples_136))+((ref_AppliedPTransform_GenerateStatistics.train/RunStatsGenerators/GenerateSlicedStatisticsImpl/TopKUniquesStatsGenerator/TopKUniques_CountSlicedFeatureNameValueTuple/TopKUniques_CountSlicedFeatureNameValueTuple:PairWithVoid_138)+(GenerateStatistics.train/RunStatsGenerators/GenerateSlicedStatisticsImpl/TopKUniquesStatsGenerator/TopKUniques_CountSlicedFeatureNameValueTuple/CombinePerKey(CountCombineFn)/Precombine)))+(GenerateStatistics.train/RunStatsGenerators/GenerateSlicedStatisticsImpl/TopKUniquesStatsGenerator/TopKUniques_CountSlicedFeatureNameValueTuple/CombinePerKey(CountCombineFn)/Group/Write)))+(((ref_AppliedPTransform_GenerateStatistics.train/RunStatsGenerators/GenerateSlicedStatisticsImpl/BasicStatsGenerator/WindowIntoDiscarding_116)+(GenerateStatistics.train/RunStatsGenerators/GenerateSlicedStatisticsImpl/BasicStatsGenerator/CombinePerKey(PreCombineFn)/Precombine))+(GenerateStatistics.train/RunStatsGenerators/GenerateSlicedStatisticsImpl/BasicStatsGenerator/CombinePerKey(PreCombineFn)/Group/Write)))+((GenerateStatistics.train/RunStatsGenerators/GenerateSlicedStatisticsImpl/BasicStatsGenerator/Flatten/Transcode/0)+(GenerateStatistics.train/RunStatsGenerators/GenerateSlicedStatisticsImpl/BasicStatsGenerator/Flatten/Write/0)))\n"
     ]
    },
    {
     "name": "stdout",
     "output_type": "stream",
     "text": [
      "[2019-06-13 06:15:11,777] {fn_api_runner.py:437} INFO - Running ((((((GenerateStatistics.train/RunStatsGenerators/GenerateSlicedStatisticsImpl/TopKUniquesStatsGenerator/TopKUniques_CountSlicedFeatureNameValueTuple/CombinePerKey(CountCombineFn)/Group/Read)+(GenerateStatistics.train/RunStatsGenerators/GenerateSlicedStatisticsImpl/TopKUniquesStatsGenerator/TopKUniques_CountSlicedFeatureNameValueTuple/CombinePerKey(CountCombineFn)/Merge))+(GenerateStatistics.train/RunStatsGenerators/GenerateSlicedStatisticsImpl/TopKUniquesStatsGenerator/TopKUniques_CountSlicedFeatureNameValueTuple/CombinePerKey(CountCombineFn)/ExtractOutputs))+(ref_AppliedPTransform_GenerateStatistics.train/RunStatsGenerators/GenerateSlicedStatisticsImpl/TopKUniquesStatsGenerator/TopKUniques_ModifyKeyToSlicedFeatureName_146))+(GenerateStatistics.train/RunStatsGenerators/GenerateSlicedStatisticsImpl/TopKUniquesStatsGenerator/TopK_GetTopK/CombinePerKey(TopCombineFn)/Precombine))+(((ref_AppliedPTransform_GenerateStatistics.train/RunStatsGenerators/GenerateSlicedStatisticsImpl/TopKUniquesStatsGenerator/Uniques_DropValues_156)+(ref_AppliedPTransform_GenerateStatistics.train/RunStatsGenerators/GenerateSlicedStatisticsImpl/TopKUniquesStatsGenerator/Uniques_CountPerFeatureName/Uniques_CountPerFeatureName:PairWithVoid_158))+((GenerateStatistics.train/RunStatsGenerators/GenerateSlicedStatisticsImpl/TopKUniquesStatsGenerator/Uniques_CountPerFeatureName/CombinePerKey(CountCombineFn)/Precombine)+(GenerateStatistics.train/RunStatsGenerators/GenerateSlicedStatisticsImpl/TopKUniquesStatsGenerator/Uniques_CountPerFeatureName/CombinePerKey(CountCombineFn)/Group/Write))))+(GenerateStatistics.train/RunStatsGenerators/GenerateSlicedStatisticsImpl/TopKUniquesStatsGenerator/TopK_GetTopK/CombinePerKey(TopCombineFn)/Group/Write)\n",
      "[2019-06-13 06:15:11,814] {fn_api_runner.py:437} INFO - Running (((GenerateStatistics.train/RunStatsGenerators/GenerateSlicedStatisticsImpl/TopKUniquesStatsGenerator/TopK_GetTopK/CombinePerKey(TopCombineFn)/Group/Read)+((GenerateStatistics.train/RunStatsGenerators/GenerateSlicedStatisticsImpl/TopKUniquesStatsGenerator/TopK_GetTopK/CombinePerKey(TopCombineFn)/Merge)+(GenerateStatistics.train/RunStatsGenerators/GenerateSlicedStatisticsImpl/TopKUniquesStatsGenerator/TopK_GetTopK/CombinePerKey(TopCombineFn)/ExtractOutputs)))+(ref_AppliedPTransform_GenerateStatistics.train/RunStatsGenerators/GenerateSlicedStatisticsImpl/TopKUniquesStatsGenerator/TopK_ConvertToSingleFeatureStats_155))+(GenerateStatistics.train/RunStatsGenerators/GenerateSlicedStatisticsImpl/TopKUniquesStatsGenerator/FlattenTopKUniquesResults/Write/0)\n",
      "[2019-06-13 06:15:11,834] {fn_api_runner.py:437} INFO - Running ((ref_AppliedPTransform_ReadData.eval/Read_3)+(ref_AppliedPTransform_DecodeData.eval/ParseTFExamples_5))+((((((((ref_AppliedPTransform_GenerateStatistics.eval/RunStatsGenerators/KeyWithVoid_8)+(ref_AppliedPTransform_GenerateStatistics.eval/RunStatsGenerators/GenerateSlicedStatisticsImpl/BasicStatsGenerator/ParDo(SplitHotCold)/ParDo(SplitHotCold)_12))+(ref_AppliedPTransform_GenerateStatistics.eval/RunStatsGenerators/GenerateSlicedStatisticsImpl/TopKUniquesStatsGenerator/TopKUniques_ConvertInputToFeatureValuesWithWeights_32))+(ref_AppliedPTransform_GenerateStatistics.eval/RunStatsGenerators/GenerateSlicedStatisticsImpl/TopKUniquesStatsGenerator/TopKUniques_FlattenToSlicedFeatureNameValueTuples_33))+(ref_AppliedPTransform_GenerateStatistics.eval/RunStatsGenerators/GenerateSlicedStatisticsImpl/BasicStatsGenerator/WindowIntoDiscarding_13))+(((ref_AppliedPTransform_GenerateStatistics.eval/RunStatsGenerators/GenerateSlicedStatisticsImpl/TopKUniquesStatsGenerator/TopKUniques_CountSlicedFeatureNameValueTuple/TopKUniques_CountSlicedFeatureNameValueTuple:PairWithVoid_35)+(GenerateStatistics.eval/RunStatsGenerators/GenerateSlicedStatisticsImpl/TopKUniquesStatsGenerator/TopKUniques_CountSlicedFeatureNameValueTuple/CombinePerKey(CountCombineFn)/Precombine))+(GenerateStatistics.eval/RunStatsGenerators/GenerateSlicedStatisticsImpl/TopKUniquesStatsGenerator/TopKUniques_CountSlicedFeatureNameValueTuple/CombinePerKey(CountCombineFn)/Group/Write)))+((GenerateStatistics.eval/RunStatsGenerators/GenerateSlicedStatisticsImpl/BasicStatsGenerator/CombinePerKey(PreCombineFn)/Precombine)+(GenerateStatistics.eval/RunStatsGenerators/GenerateSlicedStatisticsImpl/BasicStatsGenerator/CombinePerKey(PreCombineFn)/Group/Write)))+((GenerateStatistics.eval/RunStatsGenerators/GenerateSlicedStatisticsImpl/BasicStatsGenerator/Flatten/Transcode/0)+(GenerateStatistics.eval/RunStatsGenerators/GenerateSlicedStatisticsImpl/BasicStatsGenerator/Flatten/Write/0)))\n",
      "[2019-06-13 06:15:14,955] {fn_api_runner.py:437} INFO - Running (((GenerateStatistics.eval/RunStatsGenerators/GenerateSlicedStatisticsImpl/BasicStatsGenerator/CombinePerKey(PreCombineFn)/Group/Read)+(GenerateStatistics.eval/RunStatsGenerators/GenerateSlicedStatisticsImpl/BasicStatsGenerator/CombinePerKey(PreCombineFn)/Merge))+(GenerateStatistics.eval/RunStatsGenerators/GenerateSlicedStatisticsImpl/BasicStatsGenerator/CombinePerKey(PreCombineFn)/ExtractOutputs))+(((ref_AppliedPTransform_GenerateStatistics.eval/RunStatsGenerators/GenerateSlicedStatisticsImpl/BasicStatsGenerator/Map(StripNonce)_21)+(ref_AppliedPTransform_GenerateStatistics.eval/RunStatsGenerators/GenerateSlicedStatisticsImpl/BasicStatsGenerator/WindowIntoOriginal_22))+(GenerateStatistics.eval/RunStatsGenerators/GenerateSlicedStatisticsImpl/BasicStatsGenerator/Flatten/Write/1))\n",
      "[2019-06-13 06:15:15,244] {fn_api_runner.py:437} INFO - Running ((GenerateStatistics.eval/RunStatsGenerators/GenerateSlicedStatisticsImpl/BasicStatsGenerator/Flatten/Read)+(GenerateStatistics.eval/RunStatsGenerators/GenerateSlicedStatisticsImpl/BasicStatsGenerator/CombinePerKey(PostCombineFn)/Precombine))+(GenerateStatistics.eval/RunStatsGenerators/GenerateSlicedStatisticsImpl/BasicStatsGenerator/CombinePerKey(PostCombineFn)/Group/Write)\n",
      "[2019-06-13 06:15:15,390] {fn_api_runner.py:437} INFO - Running (GenerateStatistics.eval/RunStatsGenerators/GenerateSlicedStatisticsImpl/BasicStatsGenerator/CombinePerKey(PostCombineFn)/Group/Read)+(((GenerateStatistics.eval/RunStatsGenerators/GenerateSlicedStatisticsImpl/BasicStatsGenerator/CombinePerKey(PostCombineFn)/Merge)+(GenerateStatistics.eval/RunStatsGenerators/GenerateSlicedStatisticsImpl/BasicStatsGenerator/CombinePerKey(PostCombineFn)/ExtractOutputs))+((GenerateStatistics.eval/RunStatsGenerators/GenerateSlicedStatisticsImpl/FlattenFeatureStatistics/Transcode/0)+(GenerateStatistics.eval/RunStatsGenerators/GenerateSlicedStatisticsImpl/FlattenFeatureStatistics/Write/0)))\n",
      "[2019-06-13 06:15:15,706] {fn_api_runner.py:437} INFO - Running ((((GenerateStatistics.eval/RunStatsGenerators/GenerateSlicedStatisticsImpl/TopKUniquesStatsGenerator/TopKUniques_CountSlicedFeatureNameValueTuple/CombinePerKey(CountCombineFn)/Group/Read)+((GenerateStatistics.eval/RunStatsGenerators/GenerateSlicedStatisticsImpl/TopKUniquesStatsGenerator/TopKUniques_CountSlicedFeatureNameValueTuple/CombinePerKey(CountCombineFn)/Merge)+(GenerateStatistics.eval/RunStatsGenerators/GenerateSlicedStatisticsImpl/TopKUniquesStatsGenerator/TopKUniques_CountSlicedFeatureNameValueTuple/CombinePerKey(CountCombineFn)/ExtractOutputs)))+(((((ref_AppliedPTransform_GenerateStatistics.eval/RunStatsGenerators/GenerateSlicedStatisticsImpl/TopKUniquesStatsGenerator/TopKUniques_ModifyKeyToSlicedFeatureName_43)+(GenerateStatistics.eval/RunStatsGenerators/GenerateSlicedStatisticsImpl/TopKUniquesStatsGenerator/TopK_GetTopK/CombinePerKey(TopCombineFn)/Precombine))+(ref_AppliedPTransform_GenerateStatistics.eval/RunStatsGenerators/GenerateSlicedStatisticsImpl/TopKUniquesStatsGenerator/Uniques_DropValues_53))+(ref_AppliedPTransform_GenerateStatistics.eval/RunStatsGenerators/GenerateSlicedStatisticsImpl/TopKUniquesStatsGenerator/Uniques_CountPerFeatureName/Uniques_CountPerFeatureName:PairWithVoid_55))+(GenerateStatistics.eval/RunStatsGenerators/GenerateSlicedStatisticsImpl/TopKUniquesStatsGenerator/Uniques_CountPerFeatureName/CombinePerKey(CountCombineFn)/Precombine)))+(GenerateStatistics.eval/RunStatsGenerators/GenerateSlicedStatisticsImpl/TopKUniquesStatsGenerator/TopK_GetTopK/CombinePerKey(TopCombineFn)/Group/Write))+(GenerateStatistics.eval/RunStatsGenerators/GenerateSlicedStatisticsImpl/TopKUniquesStatsGenerator/Uniques_CountPerFeatureName/CombinePerKey(CountCombineFn)/Group/Write)\n"
     ]
    },
    {
     "name": "stdout",
     "output_type": "stream",
     "text": [
      "[2019-06-13 06:15:15,743] {fn_api_runner.py:437} INFO - Running ((GenerateStatistics.eval/RunStatsGenerators/GenerateSlicedStatisticsImpl/TopKUniquesStatsGenerator/Uniques_CountPerFeatureName/CombinePerKey(CountCombineFn)/Group/Read)+(GenerateStatistics.eval/RunStatsGenerators/GenerateSlicedStatisticsImpl/TopKUniquesStatsGenerator/Uniques_CountPerFeatureName/CombinePerKey(CountCombineFn)/Merge))+(((GenerateStatistics.eval/RunStatsGenerators/GenerateSlicedStatisticsImpl/TopKUniquesStatsGenerator/Uniques_CountPerFeatureName/CombinePerKey(CountCombineFn)/ExtractOutputs)+(ref_AppliedPTransform_GenerateStatistics.eval/RunStatsGenerators/GenerateSlicedStatisticsImpl/TopKUniquesStatsGenerator/Uniques_ConvertToSingleFeatureStats_63))+(GenerateStatistics.eval/RunStatsGenerators/GenerateSlicedStatisticsImpl/TopKUniquesStatsGenerator/FlattenTopKUniquesResults/Write/1))\n",
      "[2019-06-13 06:15:15,762] {fn_api_runner.py:437} INFO - Running ((GenerateStatistics.eval/RunStatsGenerators/GenerateSlicedStatisticsImpl/TopKUniquesStatsGenerator/TopK_GetTopK/CombinePerKey(TopCombineFn)/Group/Read)+(GenerateStatistics.eval/RunStatsGenerators/GenerateSlicedStatisticsImpl/TopKUniquesStatsGenerator/TopK_GetTopK/CombinePerKey(TopCombineFn)/Merge))+(((GenerateStatistics.eval/RunStatsGenerators/GenerateSlicedStatisticsImpl/TopKUniquesStatsGenerator/TopK_GetTopK/CombinePerKey(TopCombineFn)/ExtractOutputs)+(ref_AppliedPTransform_GenerateStatistics.eval/RunStatsGenerators/GenerateSlicedStatisticsImpl/TopKUniquesStatsGenerator/TopK_ConvertToSingleFeatureStats_52))+(GenerateStatistics.eval/RunStatsGenerators/GenerateSlicedStatisticsImpl/TopKUniquesStatsGenerator/FlattenTopKUniquesResults/Write/0))\n",
      "[2019-06-13 06:15:15,785] {fn_api_runner.py:437} INFO - Running ((GenerateStatistics.eval/RunStatsGenerators/GenerateSlicedStatisticsImpl/TopKUniquesStatsGenerator/FlattenTopKUniquesResults/Read)+(ref_AppliedPTransform_GenerateStatistics.eval/RunStatsGenerators/GenerateSlicedStatisticsImpl/TopKUniquesStatsGenerator/DeserializeTopKUniquesFeatureStatsProto_65))+((GenerateStatistics.eval/RunStatsGenerators/GenerateSlicedStatisticsImpl/FlattenFeatureStatistics/Transcode/1)+(GenerateStatistics.eval/RunStatsGenerators/GenerateSlicedStatisticsImpl/FlattenFeatureStatistics/Write/1))\n",
      "[2019-06-13 06:15:15,800] {fn_api_runner.py:437} INFO - Running ((GenerateStatistics.eval/RunStatsGenerators/GenerateSlicedStatisticsImpl/FlattenFeatureStatistics/Read)+(GenerateStatistics.eval/RunStatsGenerators/GenerateSlicedStatisticsImpl/MergeDatasetFeatureStatisticsProtos/Precombine))+(GenerateStatistics.eval/RunStatsGenerators/GenerateSlicedStatisticsImpl/MergeDatasetFeatureStatisticsProtos/Group/Write)\n",
      "[2019-06-13 06:15:15,816] {fn_api_runner.py:437} INFO - Running (GenerateStatistics.eval/RunStatsGenerators/GenerateSlicedStatisticsImpl/MergeDatasetFeatureStatisticsProtos/Group/Read)+((GenerateStatistics.eval/RunStatsGenerators/GenerateSlicedStatisticsImpl/MergeDatasetFeatureStatisticsProtos/Merge)+(((GenerateStatistics.eval/RunStatsGenerators/GenerateSlicedStatisticsImpl/MergeDatasetFeatureStatisticsProtos/ExtractOutputs)+(ref_AppliedPTransform_GenerateStatistics.eval/RunStatsGenerators/GenerateSlicedStatisticsImpl/AddSliceKeyToStatsProto_74))+(((ref_AppliedPTransform_GenerateStatistics.eval/RunStatsGenerators/GenerateSlicedStatisticsImpl/ToList/ToList/KeyWithVoid_77)+(GenerateStatistics.eval/RunStatsGenerators/GenerateSlicedStatisticsImpl/ToList/ToList/CombinePerKey/Precombine))+(GenerateStatistics.eval/RunStatsGenerators/GenerateSlicedStatisticsImpl/ToList/ToList/CombinePerKey/Group/Write))))\n",
      "[2019-06-13 06:15:15,846] {fn_api_runner.py:437} INFO - Running ((GenerateStatistics.train/RunStatsGenerators/GenerateSlicedStatisticsImpl/BasicStatsGenerator/CombinePerKey(PreCombineFn)/Group/Read)+(GenerateStatistics.train/RunStatsGenerators/GenerateSlicedStatisticsImpl/BasicStatsGenerator/CombinePerKey(PreCombineFn)/Merge))+(((GenerateStatistics.train/RunStatsGenerators/GenerateSlicedStatisticsImpl/BasicStatsGenerator/CombinePerKey(PreCombineFn)/ExtractOutputs)+(ref_AppliedPTransform_GenerateStatistics.train/RunStatsGenerators/GenerateSlicedStatisticsImpl/BasicStatsGenerator/Map(StripNonce)_124))+((ref_AppliedPTransform_GenerateStatistics.train/RunStatsGenerators/GenerateSlicedStatisticsImpl/BasicStatsGenerator/WindowIntoOriginal_125)+(GenerateStatistics.train/RunStatsGenerators/GenerateSlicedStatisticsImpl/BasicStatsGenerator/Flatten/Write/1)))\n",
      "[2019-06-13 06:15:16,119] {fn_api_runner.py:437} INFO - Running ((GenerateStatistics.train/RunStatsGenerators/GenerateSlicedStatisticsImpl/BasicStatsGenerator/Flatten/Read)+(GenerateStatistics.train/RunStatsGenerators/GenerateSlicedStatisticsImpl/BasicStatsGenerator/CombinePerKey(PostCombineFn)/Precombine))+(GenerateStatistics.train/RunStatsGenerators/GenerateSlicedStatisticsImpl/BasicStatsGenerator/CombinePerKey(PostCombineFn)/Group/Write)\n",
      "[2019-06-13 06:15:16,268] {fn_api_runner.py:437} INFO - Running (GenerateStatistics.train/RunStatsGenerators/GenerateSlicedStatisticsImpl/BasicStatsGenerator/CombinePerKey(PostCombineFn)/Group/Read)+(((GenerateStatistics.train/RunStatsGenerators/GenerateSlicedStatisticsImpl/BasicStatsGenerator/CombinePerKey(PostCombineFn)/Merge)+((GenerateStatistics.train/RunStatsGenerators/GenerateSlicedStatisticsImpl/BasicStatsGenerator/CombinePerKey(PostCombineFn)/ExtractOutputs)+(GenerateStatistics.train/RunStatsGenerators/GenerateSlicedStatisticsImpl/FlattenFeatureStatistics/Transcode/0)))+(GenerateStatistics.train/RunStatsGenerators/GenerateSlicedStatisticsImpl/FlattenFeatureStatistics/Write/0))\n",
      "[2019-06-13 06:15:16,781] {fn_api_runner.py:437} INFO - Running (((GenerateStatistics.train/RunStatsGenerators/GenerateSlicedStatisticsImpl/TopKUniquesStatsGenerator/Uniques_CountPerFeatureName/CombinePerKey(CountCombineFn)/Group/Read)+(GenerateStatistics.train/RunStatsGenerators/GenerateSlicedStatisticsImpl/TopKUniquesStatsGenerator/Uniques_CountPerFeatureName/CombinePerKey(CountCombineFn)/Merge))+((GenerateStatistics.train/RunStatsGenerators/GenerateSlicedStatisticsImpl/TopKUniquesStatsGenerator/Uniques_CountPerFeatureName/CombinePerKey(CountCombineFn)/ExtractOutputs)+(ref_AppliedPTransform_GenerateStatistics.train/RunStatsGenerators/GenerateSlicedStatisticsImpl/TopKUniquesStatsGenerator/Uniques_ConvertToSingleFeatureStats_166)))+(GenerateStatistics.train/RunStatsGenerators/GenerateSlicedStatisticsImpl/TopKUniquesStatsGenerator/FlattenTopKUniquesResults/Write/1)\n",
      "[2019-06-13 06:15:16,799] {fn_api_runner.py:437} INFO - Running (((GenerateStatistics.train/RunStatsGenerators/GenerateSlicedStatisticsImpl/TopKUniquesStatsGenerator/FlattenTopKUniquesResults/Read)+(ref_AppliedPTransform_GenerateStatistics.train/RunStatsGenerators/GenerateSlicedStatisticsImpl/TopKUniquesStatsGenerator/DeserializeTopKUniquesFeatureStatsProto_168))+(GenerateStatistics.train/RunStatsGenerators/GenerateSlicedStatisticsImpl/FlattenFeatureStatistics/Transcode/1))+(GenerateStatistics.train/RunStatsGenerators/GenerateSlicedStatisticsImpl/FlattenFeatureStatistics/Write/1)\n",
      "[2019-06-13 06:15:16,821] {fn_api_runner.py:437} INFO - Running (GenerateStatistics.train/RunStatsGenerators/GenerateSlicedStatisticsImpl/FlattenFeatureStatistics/Read)+((GenerateStatistics.train/RunStatsGenerators/GenerateSlicedStatisticsImpl/MergeDatasetFeatureStatisticsProtos/Precombine)+(GenerateStatistics.train/RunStatsGenerators/GenerateSlicedStatisticsImpl/MergeDatasetFeatureStatisticsProtos/Group/Write))\n",
      "[2019-06-13 06:15:16,840] {fn_api_runner.py:437} INFO - Running (((GenerateStatistics.train/RunStatsGenerators/GenerateSlicedStatisticsImpl/MergeDatasetFeatureStatisticsProtos/Group/Read)+(GenerateStatistics.train/RunStatsGenerators/GenerateSlicedStatisticsImpl/MergeDatasetFeatureStatisticsProtos/Merge))+((GenerateStatistics.train/RunStatsGenerators/GenerateSlicedStatisticsImpl/MergeDatasetFeatureStatisticsProtos/ExtractOutputs)+(ref_AppliedPTransform_GenerateStatistics.train/RunStatsGenerators/GenerateSlicedStatisticsImpl/AddSliceKeyToStatsProto_177)))+((ref_AppliedPTransform_GenerateStatistics.train/RunStatsGenerators/GenerateSlicedStatisticsImpl/ToList/ToList/KeyWithVoid_180)+((GenerateStatistics.train/RunStatsGenerators/GenerateSlicedStatisticsImpl/ToList/ToList/CombinePerKey/Precombine)+(GenerateStatistics.train/RunStatsGenerators/GenerateSlicedStatisticsImpl/ToList/ToList/CombinePerKey/Group/Write)))\n"
     ]
    },
    {
     "name": "stdout",
     "output_type": "stream",
     "text": [
      "[2019-06-13 06:15:16,878] {fn_api_runner.py:437} INFO - Running (((ref_AppliedPTransform_WriteStatsOutput.eval/Write/WriteImpl/DoOnce/Read_94)+(ref_AppliedPTransform_WriteStatsOutput.eval/Write/WriteImpl/InitializeWrite_95))+(ref_PCollection_PCollection_55/Write))+(ref_PCollection_PCollection_56/Write)\n",
      "[2019-06-13 06:15:16,902] {fn_api_runner.py:437} INFO - Running ((GenerateStatistics.eval/RunStatsGenerators/GenerateSlicedStatisticsImpl/ToList/ToList/CombinePerKey/Group/Read)+(GenerateStatistics.eval/RunStatsGenerators/GenerateSlicedStatisticsImpl/ToList/ToList/CombinePerKey/Merge))+((GenerateStatistics.eval/RunStatsGenerators/GenerateSlicedStatisticsImpl/ToList/ToList/CombinePerKey/ExtractOutputs)+((ref_AppliedPTransform_GenerateStatistics.eval/RunStatsGenerators/GenerateSlicedStatisticsImpl/ToList/ToList/UnKey_85)+(ref_PCollection_PCollection_51/Write)))\n",
      "[2019-06-13 06:15:16,926] {fn_api_runner.py:437} INFO - Running (ref_AppliedPTransform_GenerateStatistics.eval/RunStatsGenerators/GenerateSlicedStatisticsImpl/ToList/ToList/DoOnce/Read_87)+((ref_AppliedPTransform_GenerateStatistics.eval/RunStatsGenerators/GenerateSlicedStatisticsImpl/ToList/ToList/InjectDefault_88)+((((ref_AppliedPTransform_GenerateStatistics.eval/RunStatsGenerators/GenerateSlicedStatisticsImpl/MakeDatasetFeatureStatisticsListProto_89)+(ref_AppliedPTransform_WriteStatsOutput.eval/Write/WriteImpl/Map(<lambda at iobase.py:984>)_96))+(ref_AppliedPTransform_WriteStatsOutput.eval/Write/WriteImpl/WindowInto(WindowIntoFn)_97))+(WriteStatsOutput.eval/Write/WriteImpl/GroupByKey/Write)))\n",
      "[2019-06-13 06:15:16,979] {fn_api_runner.py:437} INFO - Running ((WriteStatsOutput.eval/Write/WriteImpl/GroupByKey/Read)+(ref_AppliedPTransform_WriteStatsOutput.eval/Write/WriteImpl/WriteBundles_102))+(ref_PCollection_PCollection_62/Write)\n",
      "[2019-06-13 06:15:17,000] {fn_api_runner.py:437} INFO - Running (ref_PCollection_PCollection_55/Read)+((ref_AppliedPTransform_WriteStatsOutput.eval/Write/WriteImpl/PreFinalize_103)+(ref_PCollection_PCollection_63/Write))\n",
      "[2019-06-13 06:15:17,026] {fn_api_runner.py:437} INFO - Running (ref_PCollection_PCollection_55/Read)+(ref_AppliedPTransform_WriteStatsOutput.eval/Write/WriteImpl/FinalizeWrite_104)\n",
      "[2019-06-13 06:15:17,049] {filebasedsink.py:290} INFO - Starting finalize_write threads with num_shards: 1 (skipped: 0), batches: 1, num_threads: 1\n",
      "[2019-06-13 06:15:17,154] {filebasedsink.py:327} INFO - Renamed 1 shards in 0.10 seconds.\n",
      "[2019-06-13 06:15:17,177] {fn_api_runner.py:437} INFO - Running ((GenerateStatistics.train/RunStatsGenerators/GenerateSlicedStatisticsImpl/ToList/ToList/CombinePerKey/Group/Read)+(GenerateStatistics.train/RunStatsGenerators/GenerateSlicedStatisticsImpl/ToList/ToList/CombinePerKey/Merge))+(((GenerateStatistics.train/RunStatsGenerators/GenerateSlicedStatisticsImpl/ToList/ToList/CombinePerKey/ExtractOutputs)+(ref_AppliedPTransform_GenerateStatistics.train/RunStatsGenerators/GenerateSlicedStatisticsImpl/ToList/ToList/UnKey_188))+(ref_PCollection_PCollection_115/Write))\n",
      "[2019-06-13 06:15:17,200] {fn_api_runner.py:437} INFO - Running ((((ref_AppliedPTransform_GenerateStatistics.train/RunStatsGenerators/GenerateSlicedStatisticsImpl/ToList/ToList/DoOnce/Read_190)+(ref_AppliedPTransform_GenerateStatistics.train/RunStatsGenerators/GenerateSlicedStatisticsImpl/ToList/ToList/InjectDefault_191))+(ref_AppliedPTransform_GenerateStatistics.train/RunStatsGenerators/GenerateSlicedStatisticsImpl/MakeDatasetFeatureStatisticsListProto_192))+(ref_AppliedPTransform_WriteStatsOutput.train/Write/WriteImpl/Map(<lambda at iobase.py:984>)_199))+((ref_AppliedPTransform_WriteStatsOutput.train/Write/WriteImpl/WindowInto(WindowIntoFn)_200)+(WriteStatsOutput.train/Write/WriteImpl/GroupByKey/Write))\n",
      "[2019-06-13 06:15:17,251] {fn_api_runner.py:437} INFO - Running (((ref_AppliedPTransform_WriteStatsOutput.train/Write/WriteImpl/DoOnce/Read_197)+(ref_AppliedPTransform_WriteStatsOutput.train/Write/WriteImpl/InitializeWrite_198))+(ref_PCollection_PCollection_119/Write))+(ref_PCollection_PCollection_120/Write)\n",
      "[2019-06-13 06:15:17,273] {fn_api_runner.py:437} INFO - Running (WriteStatsOutput.train/Write/WriteImpl/GroupByKey/Read)+((ref_AppliedPTransform_WriteStatsOutput.train/Write/WriteImpl/WriteBundles_205)+(ref_PCollection_PCollection_126/Write))\n",
      "[2019-06-13 06:15:17,292] {fn_api_runner.py:437} INFO - Running ((ref_PCollection_PCollection_119/Read)+(ref_AppliedPTransform_WriteStatsOutput.train/Write/WriteImpl/PreFinalize_206))+(ref_PCollection_PCollection_127/Write)\n",
      "[2019-06-13 06:15:17,311] {fn_api_runner.py:437} INFO - Running (ref_PCollection_PCollection_119/Read)+(ref_AppliedPTransform_WriteStatsOutput.train/Write/WriteImpl/FinalizeWrite_207)\n",
      "[2019-06-13 06:15:17,327] {filebasedsink.py:290} INFO - Starting finalize_write threads with num_shards: 1 (skipped: 0), batches: 1, num_threads: 1\n",
      "[2019-06-13 06:15:17,431] {filebasedsink.py:327} INFO - Renamed 1 shards in 0.10 seconds.\n"
     ]
    }
   ],
   "source": [
    "def execute_component(component):\n",
    "    input_dict = {key:value.get() for key, value in component.input_dict.items()}\n",
    "    output_dict = {key: value.get() for key, value in component.outputs.get_all().items()}\n",
    "    exec_properties = component.exec_properties\n",
    "    executor = component.executor()\n",
    "    executor.Do(input_dict, output_dict, exec_properties)\n",
    "\n",
    "execute_component(example_gen)\n",
    "execute_component(statistics_gen)"
   ]
  },
  {
   "cell_type": "markdown",
   "metadata": {},
   "source": [
    "## Check Result"
   ]
  },
  {
   "cell_type": "code",
   "execution_count": 10,
   "metadata": {},
   "outputs": [
    {
     "name": "stdout",
     "output_type": "stream",
     "text": [
      "/root/taxi/data/simple/:\r\n",
      "total 1.9M\r\n",
      "1.9M -rw-r--r-- 1 root root 1.9M Jun 13 06:14 data.csv\r\n",
      "4.0K drwxr-xr-x 3 root root 4.0K Jun 13 06:15 eval\r\n",
      "4.0K drwxr-xr-x 3 root root 4.0K Jun 13 06:15 train\r\n",
      "\r\n",
      "/root/taxi/data/simple/eval:\r\n",
      "total 208K\r\n",
      "204K -rw-r--r-- 1 root root 201K Jun 13 06:14 data_tfrecord-00000-of-00001.gz\r\n",
      "4.0K drwxr-xr-x 2 root root 4.0K Jun 13 06:15 stats\r\n",
      "\r\n",
      "/root/taxi/data/simple/eval/stats:\r\n",
      "total 20K\r\n",
      "20K -rw-r--r-- 1 root root 17K Jun 13 06:15 stats_tfrecord\r\n",
      "\r\n",
      "/root/taxi/data/simple/train:\r\n",
      "total 412K\r\n",
      "408K -rw-r--r-- 1 root root 405K Jun 13 06:15 data_tfrecord-00000-of-00001.gz\r\n",
      "4.0K drwxr-xr-x 2 root root 4.0K Jun 13 06:15 stats\r\n",
      "\r\n",
      "/root/taxi/data/simple/train/stats:\r\n",
      "total 20K\r\n",
      "20K -rw-r--r-- 1 root root 18K Jun 13 06:15 stats_tfrecord\r\n"
     ]
    }
   ],
   "source": [
    "!ls -Rlhs /root/taxi/data/simple/"
   ]
  },
  {
   "cell_type": "code",
   "execution_count": 20,
   "metadata": {},
   "outputs": [],
   "source": [
    "def get_stats_directories(statistics_gen):\n",
    "    output_dict = {key: value.get() for key, value in statistics_gen.outputs.get_all().items()}\n",
    "    input_dict = {key:value.get() for key, value in statistics_gen.input_dict.items()}\n",
    "    split_to_instance = {x.split: x for x in input_dict['input_data']}\n",
    "    directories = [types.get_split_uri(output_dict['output'], split) for split, instance in split_to_instance.items()]\n",
    "    return directories\n",
    "\n",
    "directories = get_stats_directories(statistics_gen)"
   ]
  },
  {
   "cell_type": "code",
   "execution_count": 16,
   "metadata": {},
   "outputs": [],
   "source": [
    "import tensorflow_data_validation as tfdv\n",
    "from tfx.utils import io_utils\n",
    "\n",
    "train_stats = tfdv.load_statistics(io_utils.get_only_uri_in_dir(directories[0]))"
   ]
  },
  {
   "cell_type": "code",
   "execution_count": 17,
   "metadata": {},
   "outputs": [
    {
     "data": {
      "text/html": [
       "<iframe id='facets-iframe' width=\"100%\" height=\"500px\"></iframe>\n",
       "        <script>\n",
       "        facets_iframe = document.getElementById('facets-iframe');\n",
       "        facets_html = '<link rel=\"import\" href=\"https://raw.githubusercontent.com/PAIR-code/facets/master/facets-dist/facets-jupyter.html\"><facets-overview proto-input=\"Ct+GAQoObGhzX3N0YXRpc3RpY3MQ5CYaywcKFHRyaXBfc3RhcnRfdGltZXN0YW1wGrIHCrYCCOQmGAEgAS0AAIA/MqQCGhsJAAAAAAAA8D8RAAAAAAAA8D8hZmZmZmYGf0AaGwkAAAAAAADwPxEAAAAAAADwPyFmZmZmZgZ/QBobCQAAAAAAAPA/EQAAAAAAAPA/IWZmZmZmBn9AGhsJAAAAAAAA8D8RAAAAAAAA8D8hZmZmZmYGf0AaGwkAAAAAAADwPxEAAAAAAADwPyFmZmZmZgZ/QBobCQAAAAAAAPA/EQAAAAAAAPA/IWZmZmZmBn9AGhsJAAAAAAAA8D8RAAAAAAAA8D8hZmZmZmYGf0AaGwkAAAAAAADwPxEAAAAAAADwPyFmZmZmZgZ/QBobCQAAAAAAAPA/EQAAAAAAAPA/IWZmZmZmBn9AGhsJAAAAAAAA8D8RAAAAAAAA8D8hZmZmZmYGf0AgAUDkJhE1xaQ6Ov7UQRnJpNt2srh7QSkAAACpkTjUQTEAAAAgUvnUQTkAAADDoxnWQUKiAhobCQAAAKmRONRBEQAAABKtaNRBIV1pG2PCrX9AGhsJAAAAEq1o1EERAAAAe8iY1EEhiK0GBFvKgUAaGwkAAAB7yJjUQREAAADk48jUQSG9p7/Ka8iFQBobCQAAAOTjyNRBEQAAAE3/+NRBIeuZfzIy1oVAGhsJAAAATf/41EERAAAAthop1UEhwVvSokZ/hEAaGwkAAAC2GinVQREAAAAfNlnVQSERDLLCT3CDQBobCQAAAB82WdVBEQAAAIhRidVBIbxg+xsBnIRAGhsJAAAAiFGJ1UERAAAA8Wy51UEhAESooZxtdUAaGwkAAADxbLnVQREAAABaiOnVQSGiMji2WvxdQBobCQAAAFqI6dVBEQAAAMOjGdZBIQpaiyCl8VZAQqQCGhsJAAAAqZE41EERAAAAIO5n1EEhZmZmZmYGf0AaGwkAAAAg7mfUQREAAADAJpPUQSFmZmZmZgZ/QBobCQAAAMAmk9RBEQAAAAAEttRBIWZmZmZmBn9AGhsJAAAAAAS21EERAAAAoKHW1EEhZmZmZmYGf0AaGwkAAACgodbUQREAAAAgUvnUQSFmZmZmZgZ/QBobCQAAACBS+dRBEQAAAIBJHdVBIWZmZmZmBn9AGhsJAAAAgEkd1UERAAAA4H5D1UEhZmZmZmYGf0AaGwkAAADgfkPVQREAAABA/mjVQSFmZmZmZgZ/QBobCQAAAED+aNVBEQAAAKDIjdVBIWZmZmZmBn9AGhsJAAAAoMiN1UERAAAAw6MZ1kEhZmZmZmYGf0AgARqkBwoEZmFyZRABGpkHCrYCCOQmGAEgAS0AAIA/MqQCGhsJAAAAAAAA8D8RAAAAAAAA8D8hZmZmZmYGf0AaGwkAAAAAAADwPxEAAAAAAADwPyFmZmZmZgZ/QBobCQAAAAAAAPA/EQAAAAAAAPA/IWZmZmZmBn9AGhsJAAAAAAAA8D8RAAAAAAAA8D8hZmZmZmYGf0AaGwkAAAAAAADwPxEAAAAAAADwPyFmZmZmZgZ/QBobCQAAAAAAAPA/EQAAAAAAAPA/IWZmZmZmBn9AGhsJAAAAAAAA8D8RAAAAAAAA8D8hZmZmZmYGf0AaGwkAAAAAAADwPxEAAAAAAADwPyFmZmZmZgZ/QBobCQAAAAAAAPA/EQAAAAAAAPA/IWZmZmZmBn9AGhsJAAAAAAAA8D8RAAAAAAAA8D8hZmZmZmYGf0AgAUDkJhH0ySk2DNgnQBmTABSCe3QkQCAJMQAAAKCZGSBAOQAAAAAAEFlAQpkCGhIRzczMzMwMJEAhjgo3kpj+qEAaGwnNzMzMzAwkQBHNzMzMzAw0QCGZkdhtZnuQQBobCc3MzMzMDDRAETQzMzMzEz5AIVKEQIRBGm9AGhsJNDMzMzMTPkARzczMzMwMREAhnLJy29AudkAaGwnNzMzMzAxEQBEAAAAAABBJQCEsVVpT6FxSQBobCQAAAAAAEElAETQzMzMzE05AIYj04Zr91DZAGhsJNDMzMzMTTkARMzMzMzOLUUAhrZu46xlKBUAaGwkzMzMzM4tRQBHNzMzMzAxUQCEW07W8z8IEQBobCc3MzMzMDFRAEWdmZmZmjlZAIcTAN98VQwJAGhsJZ2ZmZmaOVkARAAAAAAAQWUAhvsA33xVDAkBCmwIaEhEAAABgZmYTQCFmZmZmZgZ/QBobCQAAAGBmZhNAEQAAAKCZmRZAIWZmZmZmBn9AGhsJAAAAoJmZFkARAAAAAAAAGUAhZmZmZmYGf0AaGwkAAAAAAAAZQBEAAABAMzMcQCFmZmZmZgZ/QBobCQAAAEAzMxxAEQAAAKCZGSBAIWZmZmZmBn9AGhsJAAAAoJkZIEARAAAAAACAIkAhZmZmZmYGf0AaGwkAAAAAAIAiQBEAAAAAAIAmQCFmZmZmZgZ/QBobCQAAAAAAgCZAEQAAAAAAgC5AIWZmZmZmBn9AGhsJAAAAAACALkARBgAAoJnZPEAhZmZmZmYGf0AaGwkGAACgmdk8QBEAAAAAABBZQCFmZmZmZgZ/QCABGsUHCg50cmlwX3N0YXJ0X2RheRqyBwq2AgjkJhgBIAEtAACAPzKkAhobCQAAAAAAAPA/EQAAAAAAAPA/IWZmZmZmBn9AGhsJAAAAAAAA8D8RAAAAAAAA8D8hZmZmZmYGf0AaGwkAAAAAAADwPxEAAAAAAADwPyFmZmZmZgZ/QBobCQAAAAAAAPA/EQAAAAAAAPA/IWZmZmZmBn9AGhsJAAAAAAAA8D8RAAAAAAAA8D8hZmZmZmYGf0AaGwkAAAAAAADwPxEAAAAAAADwPyFmZmZmZgZ/QBobCQAAAAAAAPA/EQAAAAAAAPA/IWZmZmZmBn9AGhsJAAAAAAAA8D8RAAAAAAAA8D8hZmZmZmYGf0AaGwkAAAAAAADwPxEAAAAAAADwPyFmZmZmZgZ/QBobCQAAAAAAAPA/EQAAAAAAAPA/IWZmZmZmBn9AIAFA5CYRTD4i6nmZEEAZ0pyRaak8AEApAAAAAAAA8D8xAAAAAAAAEEA5AAAAAAAAHEBCogIaGwkAAAAAAADwPxGamZmZmZn5PyFHlPYGX1iFQBobCZqZmZmZmfk/EZqZmZmZmQFAIUM+6NmsGoRAGhsJmpmZmZmZAUARZmZmZmZmBkAhTEATYcPTB0AaGwlmZmZmZmYGQBEzMzMzMzMLQCGEns2qz5GEQBobCTMzMzMzMwtAEQAAAAAAABBAIVBAE2HD0wdAGhsJAAAAAAAAEEARZmZmZmZmEkAhAwmKH2NChEAaGwlmZmZmZmYSQBHNzMzMzMwUQCFJv30dOPeFQBobCc3MzMzMzBRAETMzMzMzMxdAIUxAE2HD0wdAGhsJMzMzMzMzF0ARmZmZmZmZGUAhVcGopE6wiUAaGwmZmZmZmZkZQBEAAAAAAAAcQCGSy39Iv+mIQEKkAhobCQAAAAAAAPA/EQAAAAAAAPA/IWZmZmZmBn9AGhsJAAAAAAAA8D8RAAAAAAAAAEAhZmZmZmYGf0AaGwkAAAAAAAAAQBEAAAAAAAAIQCFmZmZmZgZ/QBobCQAAAAAAAAhAEWcAAAAAAAhAIWZmZmZmBn9AGhsJZwAAAAAACEARAAAAAAAAEEAhZmZmZmYGf0AaGwkAAAAAAAAQQBEAAAAAAAAUQCFmZmZmZgZ/QBobCQAAAAAAABRAEQAAAAAAABhAIWZmZmZmBn9AGhsJAAAAAAAAGEARAAAAAAAAGEAhZmZmZmYGf0AaGwkAAAAAAAAYQBEAAAAAAAAcQCFmZmZmZgZ/QBobCQAAAAAAABxAEQAAAAAAABxAIWZmZmZmBn9AIAEazAcKFXBpY2t1cF9jb21tdW5pdHlfYXJlYRqyBwq2AgjkJhgBIAEtAACAPzKkAhobCQAAAAAAAPA/EQAAAAAAAPA/IWZmZmZmBn9AGhsJAAAAAAAA8D8RAAAAAAAA8D8hZmZmZmYGf0AaGwkAAAAAAADwPxEAAAAAAADwPyFmZmZmZgZ/QBobCQAAAAAAAPA/EQAAAAAAAPA/IWZmZmZmBn9AGhsJAAAAAAAA8D8RAAAAAAAA8D8hZmZmZmYGf0AaGwkAAAAAAADwPxEAAAAAAADwPyFmZmZmZgZ/QBobCQAAAAAAAPA/EQAAAAAAAPA/IWZmZmZmBn9AGhsJAAAAAAAA8D8RAAAAAAAA8D8hZmZmZmYGf0AaGwkAAAAAAADwPxEAAAAAAADwPyFmZmZmZgZ/QBobCQAAAAAAAPA/EQAAAAAAAPA/IWZmZmZmBn9AIAFA5CYR4RyUgl+ZNkAZ4HnSCnC6M0ApAAAAAAAA8D8xAAAAAAAAKEA5AAAAAABAU0BCogIaGwkAAAAAAADwPxEzMzMzMzMhQCGQMXctIVKjQBobCTMzMzMzMyFAETMzMzMzMzBAIfPNNjem50pAGhsJMzMzMzMzMEARzMzMzMzMN0AheLRxxFrsVEAaGwnMzMzMzMw3QBFmZmZmZmY/QCEj2/l+aj6EQBobCWZmZmZmZj9AEQAAAAAAgENAIR3J5T+kgZJAGhsJAAAAAACAQ0ARzMzMzMxMR0Ah+jD9Tz9qP0AaGwnMzMzMzExHQBGZmZmZmRlLQCEld9RX1Y4FQBobCZmZmZmZGUtAEWZmZmZm5k5AIf7rGQNtx1pAGhsJZmZmZmbmTkARmZmZmZlZUUAhQmDl0CLbE0AaGwmZmZmZmVlRQBEAAAAAAEBTQCFuxf6ye3B3QEKkAhobCQAAAAAAAPA/EQAAAAAAABhAIWZmZmZmBn9AGhsJAAAAAAAAGEARAAAAAAAAIEAhZmZmZmYGf0AaGwkAAAAAAAAgQBEAAAAAAAAgQCFmZmZmZgZ/QBobCQAAAAAAACBAEQAAAAAAACBAIWZmZmZmBn9AGhsJAAAAAAAAIEARQAAAAAAAKEAhZmZmZmYGf0AaGwlAAAAAAAAoQBEAAAAAAAA8QCFmZmZmZgZ/QBobCQAAAAAAADxAEQAAAAAAAEBAIWZmZmZmBn9AGhsJAAAAAAAAQEARAAAAAAAAQEAhZmZmZmYGf0AaGwkAAAAAAABAQBEPAAAAAIBEQCFmZmZmZgZ/QBobCQ8AAAAAgERAEQAAAAAAQFNAIWZmZmZmBn9AIAEazQcKEWRyb3BvZmZfbG9uZ2l0dWRlEAEatQcKuQIIsiUQsgEYASABLQAAgD8ypAIaGwkAAAAAAADwPxEAAAAAAADwPyGamZmZmel9QBobCQAAAAAAAPA/EQAAAAAAAPA/IZqZmZmZ6X1AGhsJAAAAAAAA8D8RAAAAAAAA8D8hmpmZmZnpfUAaGwkAAAAAAADwPxEAAAAAAADwPyGamZmZmel9QBobCQAAAAAAAPA/EQAAAAAAAPA/IZqZmZmZ6X1AGhsJAAAAAAAA8D8RAAAAAAAA8D8hmpmZmZnpfUAaGwkAAAAAAADwPxEAAAAAAADwPyGamZmZmel9QBobCQAAAAAAAPA/EQAAAAAAAPA/IZqZmZmZ6X1AGhsJAAAAAAAA8D8RAAAAAAAA8D8hmpmZmZnpfUAaGwkAAAAAAADwPxEAAAAAAADwPyGamZmZmel9QCABQLIlEe+fUS3b6VXAGS0BQup2PK0/KQAAAOB4+lXAMQAAACCI6FXAOQAAAICo5FXAQqICGhsJAAAA4Hj6VcARAAAAcEr4VcAhRsVPLEwVZkAaGwkAAABwSvhVwBEAAAAAHPZVwCHXuImaN2geQBobCQAAAAAc9lXAEQAAAJDt81XAIY/OAM9vDw1AGhsJAAAAkO3zVcARAAAAIL/xVcAhJmD3Fz7KHUAaGwkAAAAgv/FVwBEAAACwkO9VwCG1ow9pb3pTQBobCQAAALCQ71XAEQAAAEBi7VXAIQGbK3kD61ZAGhsJAAAAQGLtVcARAAAA0DPrVcAhrkibDANidkAaGwkAAADQM+tVwBEAAABgBelVwCEBpPIwpqqVQBobCQAAAGAF6VXAEQAAAPDW5lXAIXa6wqpBhKRAGhsJAAAA8NbmVcARAAAAgKjkVcAhLtoso1oTSUBCpAIaGwkAAADgePpVwBEAAABAAOxVwCGamZmZmel9QBobCQAAAEAA7FXAEQAAACB36lXAIZqZmZmZ6X1AGhsJAAAAIHfqVcARAAAA4PnpVcAhmpmZmZnpfUAaGwkAAADg+elVwBEAAADAI+lVwCGamZmZmel9QBobCQAAAMAj6VXAEQAAACCI6FXAIZqZmZmZ6X1AGhsJAAAAIIjoVcARAAAA4H7oVcAhmpmZmZnpfUAaGwkAAADgfuhVwBEAAACAP+hVwCGamZmZmel9QBobCQAAAIA/6FXAEQAAAODx51XAIZqZmZmZ6X1AGhsJAAAA4PHnVcARAAAAoLrnVcAhmpmZmZnpfUAaGwkAAACguudVwBEAAACAqORVwCGamZmZmel9QCABGh4KE3BpY2t1cF9jZW5zdXNfdHJhY3QQAiIFCgMQ5CYargcKD3RyaXBfc3RhcnRfaG91chqaBwq2AgjkJhgBIAEtAACAPzKkAhobCQAAAAAAAPA/EQAAAAAAAPA/IWZmZmZmBn9AGhsJAAAAAAAA8D8RAAAAAAAA8D8hZmZmZmYGf0AaGwkAAAAAAADwPxEAAAAAAADwPyFmZmZmZgZ/QBobCQAAAAAAAPA/EQAAAAAAAPA/IWZmZmZmBn9AGhsJAAAAAAAA8D8RAAAAAAAA8D8hZmZmZmYGf0AaGwkAAAAAAADwPxEAAAAAAADwPyFmZmZmZgZ/QBobCQAAAAAAAPA/EQAAAAAAAPA/IWZmZmZmBn9AGhsJAAAAAAAA8D8RAAAAAAAA8D8hZmZmZmYGf0AaGwkAAAAAAADwPxEAAAAAAADwPyFmZmZmZgZ/QBobCQAAAAAAAPA/EQAAAAAAAPA/IWZmZmZmBn9AIAFA5CYRt1+wUZQZK0AZr0Vo65F7GkAgzAExAAAAAAAALkA5AAAAAAAAN0BCmQIaEhFmZmZmZmYCQCEXSFD8GKWAQBobCWZmZmZmZgJAEWZmZmZmZhJAIcBbIEHxa2NAGhsJZmZmZmZmEkARmZmZmZmZG0AhWFuxv+xuWkAaGwmZmZmZmZkbQBFmZmZmZmYiQCGneccpOh5/QBobCWZmZmZmZiJAEQAAAAAAACdAISOOdXEbkX1AGhsJAAAAAAAAJ0ARmZmZmZmZK0AhI451cRuRfUAaGwmZmZmZmZkrQBGZmZmZmRkwQCFrK/aX3bGGQBobCZmZmZmZGTBAEWZmZmZmZjJAIdxoAG+BCoJAGhsJZmZmZmZmMkARMzMzMzOzNEAh5BQdyeWFhEAaGwkzMzMzM7M0QBEAAAAAAAA3QCFvgQTFj++HQEKbAhoSEQAAAAAAAABAIWZmZmZmBn9AGhsJAAAAAAAAAEARAAAAAAAAIEAhZmZmZmYGf0AaGwkAAAAAAAAgQBEAAAAAAAAkQCFmZmZmZgZ/QBobCQAAAAAAACRAEQAAAAAAAChAIWZmZmZmBn9AGhsJAAAAAAAAKEARAAAAAAAALkAhZmZmZmYGf0AaGwkAAAAAAAAuQBEAAAAAAAAxQCFmZmZmZgZ/QBobCQAAAAAAADFAEQAAAAAAADJAIWZmZmZmBn9AGhsJAAAAAAAAMkARAAAAAAAANEAhZmZmZmYGf0AaGwkAAAAAAAA0QBEAAAAAAAA2QCFmZmZmZgZ/QBobCQAAAAAAADZAEQAAAAAAADdAIWZmZmZmBn9AIAEayAcKD3BpY2t1cF9sYXRpdHVkZRABGrIHCrYCCOQmGAEgAS0AAIA/MqQCGhsJAAAAAAAA8D8RAAAAAAAA8D8hZmZmZmYGf0AaGwkAAAAAAADwPxEAAAAAAADwPyFmZmZmZgZ/QBobCQAAAAAAAPA/EQAAAAAAAPA/IWZmZmZmBn9AGhsJAAAAAAAA8D8RAAAAAAAA8D8hZmZmZmYGf0AaGwkAAAAAAADwPxEAAAAAAADwPyFmZmZmZgZ/QBobCQAAAAAAAPA/EQAAAAAAAPA/IWZmZmZmBn9AGhsJAAAAAAAA8D8RAAAAAAAA8D8hZmZmZmYGf0AaGwkAAAAAAADwPxEAAAAAAADwPyFmZmZmZgZ/QBobCQAAAAAAAPA/EQAAAAAAAPA/IWZmZmZmBn9AGhsJAAAAAAAA8D8RAAAAAAAA8D8hZmZmZmYGf0AgAUDkJhF4syq5ivNEQBnnduiD6ZOjPykAAADA1ttEQDEAAADAPfJEQDkAAABgOwFFQEKiAhobCQAAAMDW20RAETMzMwOU30RAIbqH+jmNUApAGhsJMzMzA5TfREARZmZmRlHjREAh4UI7RW0oF0AaGwlmZmZGUeNEQBGamZmJDudEQCGhIUJlpxRgQBobCZqZmYkO50RAEc3MzMzL6kRAIVcnp+JLlyFAGhsJzczMzMvqREARAAAAEInuREAhcviYXerxYUAaGwkAAAAQie5EQBEzMzNTRvJEQCEOC7Z+WWehQBobCTMzM1NG8kRAEWZmZpYD9kRAIdBgKgSBy5JAGhsJZmZmlgP2REARmpmZ2cD5REAhWDKtoiGXhEAaGwmamZnZwPlEQBHNzMwcfv1EQCEJM2f/OQZ+QBobCc3MzBx+/URAEQAAAGA7AUVAIRSRY5OyBVpAQqQCGhsJAAAAwNbbREARAAAA4E7wREAhZmZmZmYGf0AaGwkAAADgTvBEQBEAAABgxPBEQCFmZmZmZgZ/QBobCQAAAGDE8ERAEQAAAEBH8URAIWZmZmZmBn9AGhsJAAAAQEfxREARAAAAYC7yREAhZmZmZmYGf0AaGwkAAABgLvJEQBEAAADAPfJEQCFmZmZmZgZ/QBobCQAAAMA98kRAEQAAAIAX80RAIWZmZmZmBn9AGhsJAAAAgBfzREARAAAA4NTzREAhZmZmZmYGf0AaGwkAAADg1PNEQBEAAADgovdEQCFmZmZmZgZ/QBobCQAAAOCi90RAEQAAAMCf+0RAIWZmZmZmBn9AGhsJAAAAwJ/7REARAAAAYDsBRUAhZmZmZmYGf0AgARrSBwoWZHJvcG9mZl9jb21tdW5pdHlfYXJlYRABGrUHCrkCCKolELoBGAEgAS0AAIA/MqQCGhsJAAAAAAAA8D8RAAAAAAAA8D8hzczMzMzcfUAaGwkAAAAAAADwPxEAAAAAAADwPyHNzMzMzNx9QBobCQAAAAAAAPA/EQAAAAAAAPA/Ic3MzMzM3H1AGhsJAAAAAAAA8D8RAAAAAAAA8D8hzczMzMzcfUAaGwkAAAAAAADwPxEAAAAAAADwPyHNzMzMzNx9QBobCQAAAAAAAPA/EQAAAAAAAPA/Ic3MzMzM3H1AGhsJAAAAAAAA8D8RAAAAAAAA8D8hzczMzMzcfUAaGwkAAAAAAADwPxEAAAAAAADwPyHNzMzMzNx9QBobCQAAAAAAAPA/EQAAAAAAAPA/Ic3MzMzM3H1AGhsJAAAAAAAA8D8RAAAAAAAA8D8hzczMzMzcfUAgAUCqJREDWtipkyY1QBmDqiN+C8kxQCkAAAAAAADwPzEAAAAAAAAsQDkAAAAAAEBTQEKiAhobCQAAAAAAAPA/ETMzMzMzMyFAIbdAguKHc6JAGhsJMzMzMzMzIUARMzMzMzMzMEAhYAr8zhwHVEAaGwkzMzMzMzMwQBHMzMzMzMw3QCH7hMYmDL1eQBobCczMzMzMzDdAEWZmZmZmZj9AIYAmwoanO4dAGhsJZmZmZmZmP0ARAAAAAACAQ0AhgEi/fR0kkUAaGwkAAAAAAIBDQBHMzMzMzExHQCFefRkjnilGQBobCczMzMzMTEdAEZmZmZmZGUtAIZinLaOpWAZAGhsJmZmZmZkZS0ARZmZmZmbmTkAhuCKatMwzUkAaGwlmZmZmZuZOQBGZmZmZmVlRQCHfJjEIrBwTQBobCZmZmZmZWVFAEQAAAAAAQFNAIU8eFmpN/25AQqQCGhsJAAAAAAAA8D8RAAAAAAAAGEAhzczMzMzcfUAaGwkAAAAAAAAYQBEAAAAAAAAgQCHNzMzMzNx9QBobCQAAAAAAACBAEQAAAAAAACBAIc3MzMzM3H1AGhsJAAAAAAAAIEARAAAAAAAAIEAhzczMzMzcfUAaGwkAAAAAAAAgQBFP/v////8rQCHNzMzMzNx9QBobCU/+/////ytAEQAAAAAAADxAIc3MzMzM3H1AGhsJAAAAAAAAPEARAAAAAAAAQEAhzczMzMzcfUAaGwkAAAAAAABAQBEAAAAAAABAQCHNzMzMzNx9QBobCQAAAAAAAEBAEQAAAAAAgEBAIc3MzMzM3H1AGhsJAAAAAACAQEARAAAAAABAU0AhzczMzMzcfUAgARqwBgoEdGlwcxABGqUGCrYCCOQmGAEgAS0AAIA/MqQCGhsJAAAAAAAA8D8RAAAAAAAA8D8hZmZmZmYGf0AaGwkAAAAAAADwPxEAAAAAAADwPyFmZmZmZgZ/QBobCQAAAAAAAPA/EQAAAAAAAPA/IWZmZmZmBn9AGhsJAAAAAAAA8D8RAAAAAAAA8D8hZmZmZmYGf0AaGwkAAAAAAADwPxEAAAAAAADwPyFmZmZmZgZ/QBobCQAAAAAAAPA/EQAAAAAAAPA/IWZmZmZmBn9AGhsJAAAAAAAA8D8RAAAAAAAA8D8hZmZmZmYGf0AaGwkAAAAAAADwPxEAAAAAAADwPyFmZmZmZgZ/QBobCQAAAAAAAPA/EQAAAAAAAPA/IWZmZmZmBn9AGhsJAAAAAAAA8D8RAAAAAAAA8D8hZmZmZmYGf0AgAUDkJhH7Bfvl97XxPxnKVumPtKgBQCCsGjkAAABgZqY3QEKZAhoSEZqZmRmF6wJAIeJYF7cRZLBAGhsJmpmZGYXrAkARmpmZGYXrEkAh0rNYeJJxekAaGwmamZkZhesSQBFnZmamR2EcQCFC2m/icOVhQBobCWdmZqZHYRxAEZqZmRmF6yJAIYUCSKj96mBAGhsJmpmZGYXrIkARAAAAYGamJ0AhEJbKVPD/R0AaGwkAAABgZqYnQBFnZmamR2EsQCFcNRXwLx8iQBobCWdmZqZHYSxAEWdmZnYUjjBAIWiz+irUdfw/GhsJZ2ZmdhSOMEARmpmZGYXrMkAhZLP6KtR1/D8aGwmamZkZhesyQBHNzMy89Ug1QCGpcWHVR5AEQBobCc3MzLz1SDVAEQAAAGBmpjdAIc95jV2HCwlAQq8BGgkhZmZmZmYGf0AaCSFmZmZmZgZ/QBoJIWZmZmZmBn9AGgkhZmZmZmYGf0AaCSFmZmZmZgZ/QBoJIWZmZmZmBn9AGhIRAAAAAAAA8D8hZmZmZmYGf0AaGwkAAAAAAADwPxEAAAAAAAAAQCFmZmZmZgZ/QBobCQAAAAAAAABAEQwAAEAzMwlAIWZmZmZmBn9AGhsJDAAAQDMzCUARAAAAYGamN0AhZmZmZmYGf0AgARqsEgoHY29tcGFueRACIp4SCrkCCOMZEIENGAEgAS0AAIA/MqQCGhsJAAAAAAAA8D8RAAAAAAAA8D8hZmZmZmaedEAaGwkAAAAAAADwPxEAAAAAAADwPyFmZmZmZp50QBobCQAAAAAAAPA/EQAAAAAAAPA/IWZmZmZmnnRAGhsJAAAAAAAA8D8RAAAAAAAA8D8hZmZmZmaedEAaGwkAAAAAAADwPxEAAAAAAADwPyFmZmZmZp50QBobCQAAAAAAAPA/EQAAAAAAAPA/IWZmZmZmnnRAGhsJAAAAAAAA8D8RAAAAAAAA8D8hZmZmZmaedEAaGwkAAAAAAADwPxEAAAAAAADwPyFmZmZmZp50QBobCQAAAAAAAPA/EQAAAAAAAPA/IWZmZmZmnnRAGhsJAAAAAAAA8D8RAAAAAAAA8D8hZmZmZmaedEAgAUDjGRAfGiQSGVRheGkgQWZmaWxpYXRpb24gU2VydmljZXMZAAAAAAAsmkAaJBIZRGlzcGF0Y2ggVGF4aSBBZmZpbGlhdGlvbhkAAAAAAECBQBosEiFCbHVlIFJpYmJvbiBUYXhpIEFzc29jaWF0aW9uIEluYy4ZAAAAAAAAeUAaIhIXQ2hvaWNlIFRheGkgQXNzb2NpYXRpb24ZAAAAAABwc0AaIxIYTm9ydGh3ZXN0IE1hbmFnZW1lbnQgTExDGQAAAAAAoGZAGiASFUtPQU0gVGF4aSBBc3NvY2lhdGlvbhkAAAAAAMBVQBoeEhNUb3AgQ2FiIEFmZmlsaWF0aW9uGQAAAAAAgEVAGjMSKENoaWNhZ28gRWxpdGUgQ2FiIENvcnAuIChDaGljYWdvIENhcnJpYWcZAAAAAAAAJkAaJxIcQ2hpY2FnbyBNZWRhbGxpb24gTWFuYWdlbWVudBkAAAAAAAAcQBoiEhdDaGljYWdvIEVsaXRlIENhYiBDb3JwLhkAAAAAAAAUQBooEh1DaGljYWdvIE1lZGFsbGlvbiBMZWFzaW5nIElOQxkAAAAAAAAQQBomEhsxMDg1IC0gNzIzMTIgTiBhbmQgVyBDYWIgQ28ZAAAAAAAACEAaIhIXNDYxNSAtIFR5cm9uZSBIZW5kZXJzb24ZAAAAAAAAAEAaGxIQQyAmIEQgQ2FiIENvIEluYxkAAAAAAADwPxocEhE2NzQzIC0gTHVoYWsgQ29ycBkAAAAAAADwPxomEhs2NTc0IC0gQmFieWxvbiBFeHByZXNzIEluYy4ZAAAAAAAA8D8aJBIZNjA1NyAtIDI0NjU3IFJpY2hhcmQgQWRkbxkAAAAAAADwPxoiEhc1OTk3IC0gQVcgU2VydmljZXMgSW5jLhkAAAAAAADwPxoiEhc1ODc0IC0gU2VyZ2V5IENhYiBDb3JwLhkAAAAAAADwPxoeEhM1ODUgLSBWYWxsZXkgQ2FiIENvGQAAAAAAAPA/JSKuzEEq6gkKJCIZVGF4aSBBZmZpbGlhdGlvbiBTZXJ2aWNlcykAAAAAACyaQAooCAEQASIZRGlzcGF0Y2ggVGF4aSBBZmZpbGlhdGlvbikAAAAAAECBQAowCAIQAiIhQmx1ZSBSaWJib24gVGF4aSBBc3NvY2lhdGlvbiBJbmMuKQAAAAAAAHlACiYIAxADIhdDaG9pY2UgVGF4aSBBc3NvY2lhdGlvbikAAAAAAHBzQAonCAQQBCIYTm9ydGh3ZXN0IE1hbmFnZW1lbnQgTExDKQAAAAAAoGZACiQIBRAFIhVLT0FNIFRheGkgQXNzb2NpYXRpb24pAAAAAADAVUAKIggGEAYiE1RvcCBDYWIgQWZmaWxpYXRpb24pAAAAAACARUAKNwgHEAciKENoaWNhZ28gRWxpdGUgQ2FiIENvcnAuIChDaGljYWdvIENhcnJpYWcpAAAAAAAAJkAKKwgIEAgiHENoaWNhZ28gTWVkYWxsaW9uIE1hbmFnZW1lbnQpAAAAAAAAHEAKJggJEAkiF0NoaWNhZ28gRWxpdGUgQ2FiIENvcnAuKQAAAAAAABRACiwIChAKIh1DaGljYWdvIE1lZGFsbGlvbiBMZWFzaW5nIElOQykAAAAAAAAQQAoqCAsQCyIbMTA4NSAtIDcyMzEyIE4gYW5kIFcgQ2FiIENvKQAAAAAAAAhACiYIDBAMIhc0NjE1IC0gVHlyb25lIEhlbmRlcnNvbikAAAAAAAAAQAofCA0QDSIQQyAmIEQgQ2FiIENvIEluYykAAAAAAADwPwogCA4QDiIRNjc0MyAtIEx1aGFrIENvcnApAAAAAAAA8D8KKggPEA8iGzY1NzQgLSBCYWJ5bG9uIEV4cHJlc3MgSW5jLikAAAAAAADwPwooCBAQECIZNjA1NyAtIDI0NjU3IFJpY2hhcmQgQWRkbykAAAAAAADwPwomCBEQESIXNTk5NyAtIEFXIFNlcnZpY2VzIEluYy4pAAAAAAAA8D8KJggSEBIiFzU4NzQgLSBTZXJnZXkgQ2FiIENvcnAuKQAAAAAAAPA/CiIIExATIhM1ODUgLSBWYWxsZXkgQ2FiIENvKQAAAAAAAPA/CiMIFBAUIhQ1MTI5IC0gTWVuZ2lzdGkgVGF4aSkAAAAAAADwPwopCBUQFSIaNTEyOSAtIDk4NzU1IE1lbmdpc3RpIFRheGkpAAAAAAAA8D8KGwgWEBYiDDUxMjkgLSA4NzEyOCkAAAAAAADwPwolCBcQFyIWNTA3NCAtIDU0MDAyIEFoem1pIEluYykAAAAAAADwPwonCBgQGCIYNTAwNiAtIDM5MjYxIFNhbGlmdSBCYXdhKQAAAAAAAPA/CiYIGRAZIhc0MTk3IC0gNDE4NDIgUm95YWwgU3RhcikAAAAAAADwPwomCBoQGiIXMzg5NyAtIDU3ODU2IElsaWUgTWFsZWMpAAAAAAAA8D8KJAgbEBsiFTMyMDEgLSBDJkQgQ2FiIENvIEluYykAAAAAAADwPwooCBwQHCIZMzAxMSAtIDY2MzA4IEpCTCBDYWIgSW5jLikAAAAAAADwPwotCB0QHSIeMjgwOSAtIDk1NDc0IEMgJiBEIENhYiBDbyBJbmMuKQAAAAAAAPA/CiIIHhAeIhMyMTkyIC0gWmV5bWFuZSBDb3JwKQAAAAAAAPA/GscHChRkcm9wb2ZmX2NlbnN1c190cmFjdBABGqwHCrkCCOsbEPkKGAEgAS0AAIA/MqQCGhsJAAAAAAAA8D8RAAAAAAAA8D8hzczMzMxEdkAaGwkAAAAAAADwPxEAAAAAAADwPyHNzMzMzER2QBobCQAAAAAAAPA/EQAAAAAAAPA/Ic3MzMzMRHZAGhsJAAAAAAAA8D8RAAAAAAAA8D8hzczMzMxEdkAaGwkAAAAAAADwPxEAAAAAAADwPyHNzMzMzER2QBobCQAAAAAAAPA/EQAAAAAAAPA/Ic3MzMzMRHZAGhsJAAAAAAAA8D8RAAAAAAAA8D8hzczMzMxEdkAaGwkAAAAAAADwPxEAAAAAAADwPyHNzMzMzER2QBobCQAAAAAAAPA/EQAAAAAAAPA/Ic3MzMzMRHZAGhsJAAAAAAAA8D8RAAAAAAAA8D8hzczMzMxEdkAgAUDrGxFnIHdyLbkPQikAAADABLkPQjEAAAAAIbkPQjkAAAAge7kPQkKiAhobCQAAAMAEuQ9CEWZmZpYQuQ9CIePpZZ1Hr5pAGhsJZmZmlhC5D0IRzczMbBy5D0IhYjpZlTkDFkAaGwnNzMxsHLkPQhEzMzNDKLkPQiGxWvEVny94QBobCTMzM0MouQ9CEZqZmRk0uQ9CIc0nEuREeH9AGhsJmpmZGTS5D0IRAAAA8D+5D0Ihtr/jdzsm+T8aGwkAAADwP7kPQhFmZmbGS7kPQiH+xIDGl6zuPxobCWZmZsZLuQ9CEc3MzJxXuQ9CIVZcg8aXrO4/GhsJzczMnFe5D0IRMzMzc2O5D0IhpRlxW3AeF0AaGwkzMzNzY7kPQhGamZlJb7kPQiExI3kjoSaIQBobCZqZmUlvuQ9CEQAAACB7uQ9CIfIA4pzDImZAQqQCGhsJAAAAwAS5D0IRAAAAQAy5D0IhzczMzMxEdkAaGwkAAABADLkPQhEAAABgDbkPQiHNzMzMzER2QBobCQAAAGANuQ9CEQAAAGANuQ9CIc3MzMzMRHZAGhsJAAAAYA25D0IRAAAAgA25D0IhzczMzMxEdkAaGwkAAACADbkPQhEAAAAAIbkPQiHNzMzMzER2QBobCQAAAAAhuQ9CEQAAAKAquQ9CIc3MzMzMRHZAGhsJAAAAoCq5D0IRAAAAoCq5D0IhzczMzMxEdkAaGwkAAACgKrkPQhEAAADgabkPQiHNzMzMzER2QBobCQAAAOBpuQ9CEQAAAOBpuQ9CIc3MzMzMRHZAGhsJAAAA4Gm5D0IRAAAAIHu5D0IhzczMzMxEdkAgARqHBwoKdHJpcF9taWxlcxABGvYGCrYCCOQmGAEgAS0AAIA/MqQCGhsJAAAAAAAA8D8RAAAAAAAA8D8hZmZmZmYGf0AaGwkAAAAAAADwPxEAAAAAAADwPyFmZmZmZgZ/QBobCQAAAAAAAPA/EQAAAAAAAPA/IWZmZmZmBn9AGhsJAAAAAAAA8D8RAAAAAAAA8D8hZmZmZmYGf0AaGwkAAAAAAADwPxEAAAAAAADwPyFmZmZmZgZ/QBobCQAAAAAAAPA/EQAAAAAAAPA/IWZmZmZmBn9AGhsJAAAAAAAA8D8RAAAAAAAA8D8hZmZmZmYGf0AaGwkAAAAAAADwPxEAAAAAAADwPyFmZmZmZgZ/QBobCQAAAAAAAPA/EQAAAAAAAPA/IWZmZmZmBn9AGhsJAAAAAAAA8D8RAAAAAAAA8D8hZmZmZmYGf0AgAUDkJhF9oOa/NDcJQBlDYg9JdyM5QCDkCjEAAAAAAADwPzkAAAAAALiaQEKZAhoSEQAAAAAAYGVAIYDPgiI4X7NAGhsJAAAAAABgZUARAAAAAABgdUAh/RpXS4X/4D8aGwkAAAAAAGB1QBEAAAAAAAiAQCH2GldLhf/gPxobCQAAAAAACIBAEQAAAAAAYIVAIfgaV0uF/+A/GhsJAAAAAABghUARAAAAAAC4ikAh+BpXS4X/4D8aGwkAAAAAALiKQBEAAAAAAAiQQCH8GldLhf/gPxobCQAAAAAACJBAEQAAAAAAtJJAIfgaV0uF/+A/GhsJAAAAAAC0kkARAAAAAABglUAh+BpXS4X/4D8aGwkAAAAAAGCVQBEAAAAAAAyYQCH8GldLhf/gPxobCQAAAAAADJhAEQAAAAAAuJpAIfgaV0uF/+A/QvcBGgkhZmZmZmYGf0AaCSFmZmZmZgZ/QBoSEQAAAKCZmbk/IWZmZmZmBn9AGhsJAAAAoJmZuT8RAAAAQDMz4z8hZmZmZmYGf0AaGwkAAABAMzPjPxEAAAAAAADwPyFmZmZmZgZ/QBobCQAAAAAAAPA/EQAAAGBmZvY/IWZmZmZmBn9AGhsJAAAAYGZm9j8RAAAAAAAAAEAhZmZmZmYGf0AaGwkAAAAAAAAAQBEAAABgZmYKQCFmZmZmZgZ/QBobCQAAAGBmZgpAEQwAAMDMzB5AIWZmZmZmBn9AGhsJDAAAwMzMHkARAAAAAAC4mkAhZmZmZmYGf0AgARrMBwoQZHJvcG9mZl9sYXRpdHVkZRABGrUHCrkCCLIlELIBGAEgAS0AAIA/MqQCGhsJAAAAAAAA8D8RAAAAAAAA8D8hmpmZmZnpfUAaGwkAAAAAAADwPxEAAAAAAADwPyGamZmZmel9QBobCQAAAAAAAPA/EQAAAAAAAPA/IZqZmZmZ6X1AGhsJAAAAAAAA8D8RAAAAAAAA8D8hmpmZmZnpfUAaGwkAAAAAAADwPxEAAAAAAADwPyGamZmZmel9QBobCQAAAAAAAPA/EQAAAAAAAPA/IZqZmZmZ6X1AGhsJAAAAAAAA8D8RAAAAAAAA8D8hmpmZmZnpfUAaGwkAAAAAAADwPxEAAAAAAADwPyGamZmZmel9QBobCQAAAAAAAPA/EQAAAAAAAPA/IZqZmZmZ6X1AGhsJAAAAAAAA8D8RAAAAAAAA8D8hmpmZmZnpfUAgAUCyJRFLn8eWfvNEQBlIQjXksJSjPykAAADA8dhEQDEAAADAPfJEQDkAAACAtwJFQEKiAhobCQAAAMDx2ERAEQAAACAf3URAIS0ByQ42kQtAGhsJAAAAIB/dREARAAAAgEzhREAhGKfzgh05F0AaGwkAAACATOFEQBEAAADgeeVEQCGrZafJBy5SQBobCQAAAOB55URAEQAAAECn6URAIQphy22xX0RAGhsJAAAAQKfpREARAAAAoNTtREAhmUlytDw7W0AaGwkAAACg1O1EQBEAAAAAAvJEQCERDeyNOHiXQBobCQAAAAAC8kRAEQAAAGAv9kRAIVfGXO8BpJ9AGhsJAAAAYC/2REARAAAAwFz6REAhjh6aW3MVgUAaGwkAAADAXPpEQBEAAAAgiv5EQCGLBKPumKJ5QBobCQAAACCK/kRAEQAAAIC3AkVAIXjgcNYgnVFAQqQCGhsJAAAAwPHYREARAAAAYN/vREAhmpmZmZnpfUAaGwkAAABg3+9EQBEAAABgxPBEQCGamZmZmel9QBobCQAAAGDE8ERAEQAAAEBH8URAIZqZmZmZ6X1AGhsJAAAAQEfxREARAAAAICzyREAhmpmZmZnpfUAaGwkAAAAgLPJEQBEAAADAPfJEQCGamZmZmel9QBobCQAAAMA98kRAEQAAAAAj80RAIZqZmZmZ6X1AGhsJAAAAACPzREARAAAAoCn0REAhmpmZmZnpfUAaGwkAAACgKfREQBEAAAAA7PZEQCGamZmZmel9QBobCQAAAADs9kRAEQAAAMCK+kRAIZqZmZmZ6X1AGhsJAAAAwIr6REARAAAAgLcCRUAhmpmZmZnpfUAgARrHBwoQdHJpcF9zdGFydF9tb250aBqyBwq2AgjkJhgBIAEtAACAPzKkAhobCQAAAAAAAPA/EQAAAAAAAPA/IWZmZmZmBn9AGhsJAAAAAAAA8D8RAAAAAAAA8D8hZmZmZmYGf0AaGwkAAAAAAADwPxEAAAAAAADwPyFmZmZmZgZ/QBobCQAAAAAAAPA/EQAAAAAAAPA/IWZmZmZmBn9AGhsJAAAAAAAA8D8RAAAAAAAA8D8hZmZmZmYGf0AaGwkAAAAAAADwPxEAAAAAAADwPyFmZmZmZgZ/QBobCQAAAAAAAPA/EQAAAAAAAPA/IWZmZmZmBn9AGhsJAAAAAAAA8D8RAAAAAAAA8D8hZmZmZmYGf0AaGwkAAAAAAADwPxEAAAAAAADwPyFmZmZmZgZ/QBobCQAAAAAAAPA/EQAAAAAAAPA/IWZmZmZmBn9AIAFA5CYRHKGrwOo+GkAZNNFBEaprC0ApAAAAAAAA8D8xAAAAAAAAHEA5AAAAAAAAKEBCogIaGwkAAAAAAADwPxHNzMzMzMwAQCFw8IXJVA+IQBobCc3MzMzMzABAEZqZmZmZmQlAIRdqTfOOF3pAGhsJmpmZmZmZCUARNDMzMzMzEUAhGZXUCWi2ekAaGwk0MzMzMzMRQBGamZmZmZkVQCGY/5B++2Z6QBobCZqZmZmZmRVAEQAAAAAAABpAIRqV1AlotnpAGhsJAAAAAAAAGkARZ2ZmZmZmHkAhFj/G3LV4eUAaGwlnZmZmZmYeQBFnZmZmZmYhQCGTqYJRSSl5QBobCWdmZmZmZiFAEZqZmZmZmSNAIRmV1AlotnpAGhsJmpmZmZmZI0ARzczMzMzMJUAhHeviNhr0e0AaGwnNzMzMzMwlQBEAAAAAAAAoQCE1ETY8vXSJQEKkAhobCQAAAAAAAPA/EQAAAAAAAABAIWZmZmZmBn9AGhsJAAAAAAAAAEARAAAAAAAACEAhZmZmZmYGf0AaGwkAAAAAAAAIQBEAAAAAAAAQQCFmZmZmZgZ/QBobCQAAAAAAABBAEQAAAAAAABRAIWZmZmZmBn9AGhsJAAAAAAAAFEARAAAAAAAAHEAhZmZmZmYGf0AaGwkAAAAAAAAcQBEAAAAAAAAgQCFmZmZmZgZ/QBobCQAAAAAAACBAEQAAAAAAACJAIWZmZmZmBn9AGhsJAAAAAAAAIkARAAAAAAAAJEAhZmZmZmYGf0AaGwkAAAAAAAAkQBEAAAAAAAAmQCFmZmZmZgZ/QBobCQAAAAAAACZAEQAAAAAAAChAIWZmZmZmBn9AIAEarwQKDHBheW1lbnRfdHlwZRACIpwECrYCCOQmGAEgAS0AAIA/MqQCGhsJAAAAAAAA8D8RAAAAAAAA8D8hZmZmZmYGf0AaGwkAAAAAAADwPxEAAAAAAADwPyFmZmZmZgZ/QBobCQAAAAAAAPA/EQAAAAAAAPA/IWZmZmZmBn9AGhsJAAAAAAAA8D8RAAAAAAAA8D8hZmZmZmYGf0AaGwkAAAAAAADwPxEAAAAAAADwPyFmZmZmZgZ/QBobCQAAAAAAAPA/EQAAAAAAAPA/IWZmZmZmBn9AGhsJAAAAAAAA8D8RAAAAAAAA8D8hZmZmZmYGf0AaGwkAAAAAAADwPxEAAAAAAADwPyFmZmZmZgZ/QBobCQAAAAAAAPA/EQAAAAAAAPA/IWZmZmZmBn9AGhsJAAAAAAAA8D8RAAAAAAAA8D8hZmZmZmYGf0AgAUDkJhAFGg8SBENhc2gZAAAAAABcqUAaFhILQ3JlZGl0IENhcmQZAAAAAAA4mkAaFBIJTm8gQ2hhcmdlGQAAAAAAADpAGhISB1Vua25vd24ZAAAAAAAAKkAaEBIFUGNhcmQZAAAAAAAA8D8lw9DMQCp1Cg8iBENhc2gpAAAAAABcqUAKGggBEAEiC0NyZWRpdCBDYXJkKQAAAAAAOJpAChgIAhACIglObyBDaGFyZ2UpAAAAAAAAOkAKFggDEAMiB1Vua25vd24pAAAAAAAAKkAKFAgEEAQiBVBjYXJkKQAAAAAAAPA/Gq8HCgx0cmlwX3NlY29uZHMQARqcBwq4AgjhJhADGAEgAS0AAIA/MqQCGhsJAAAAAAAA8D8RAAAAAAAA8D8hmpmZmZkBf0AaGwkAAAAAAADwPxEAAAAAAADwPyGamZmZmQF/QBobCQAAAAAAAPA/EQAAAAAAAPA/IZqZmZmZAX9AGhsJAAAAAAAA8D8RAAAAAAAA8D8hmpmZmZkBf0AaGwkAAAAAAADwPxEAAAAAAADwPyGamZmZmQF/QBobCQAAAAAAAPA/EQAAAAAAAPA/IZqZmZmZAX9AGhsJAAAAAAAA8D8RAAAAAAAA8D8hmpmZmZkBf0AaGwkAAAAAAADwPxEAAAAAAADwPyGamZmZmQF/QBobCQAAAAAAAPA/EQAAAAAAAPA/IZqZmZmZAX9AGhsJAAAAAAAA8D8RAAAAAAAA8D8hmpmZmZkBf0AgAUDhJhFhsGZ6POyIQBlgVfbCpWGTQCChATEAAAAAAMCCQDkAAAAAgJvxQEKZAhoSEQAAAAAALLxAIbJKNUsZXLNAGhsJAAAAAAAsvEARAAAAAAAszEAh0TRoey1t4T8aGwkAAAAAACzMQBEAAAAAACHVQCHUNGh7LW3hPxobCQAAAAAAIdVAEQAAAAAALNxAIdQ0aHstbeE/GhsJAAAAAAAs3EARAAAAAICb4UAh1DRoey1t4T8aGwkAAAAAgJvhQBEAAAAAACHlQCHUNGh7LW3hPxobCQAAAAAAIeVAEQAAAACApuhAIdQ0aHstbeE/GhsJAAAAAICm6EARAAAAAAAs7EAh1DRoey1t4T8aGwkAAAAAACzsQBEAAAAAgLHvQCHQNGh7LW3hPxobCQAAAACAse9AEQAAAACAm/FAIdg0aHstbeE/QpsCGhIRAAAAAACAZkAhmpmZmZkBf0AaGwkAAAAAAIBmQBEAAAAAAMByQCGamZmZmQF/QBobCQAAAAAAwHJAEQAAAAAAQHpAIZqZmZmZAX9AGhsJAAAAAABAekARAAAAAAAAfkAhmpmZmZkBf0AaGwkAAAAAAAB+QBEAAAAAAMCCQCGamZmZmQF/QBobCQAAAAAAwIJAEQAAAAAAoIRAIZqZmZmZAX9AGhsJAAAAAACghEARAAAAAABAikAhmpmZmZkBf0AaGwkAAAAAAECKQBEAAAAAAOCQQCGamZmZmQF/QBobCQAAAAAA4JBAEQAAAAAAUJlAIZqZmZmZAX9AGhsJAAAAAABQmUARAAAAAICb8UAhmpmZmZkBf0AgARrJBwoQcGlja3VwX2xvbmdpdHVkZRABGrIHCrYCCOQmGAEgAS0AAIA/MqQCGhsJAAAAAAAA8D8RAAAAAAAA8D8hZmZmZmYGf0AaGwkAAAAAAADwPxEAAAAAAADwPyFmZmZmZgZ/QBobCQAAAAAAAPA/EQAAAAAAAPA/IWZmZmZmBn9AGhsJAAAAAAAA8D8RAAAAAAAA8D8hZmZmZmYGf0AaGwkAAAAAAADwPxEAAAAAAADwPyFmZmZmZgZ/QBobCQAAAAAAAPA/EQAAAAAAAPA/IWZmZmZmBn9AGhsJAAAAAAAA8D8RAAAAAAAA8D8hZmZmZmYGf0AaGwkAAAAAAADwPxEAAAAAAADwPyFmZmZmZgZ/QBobCQAAAAAAAPA/EQAAAAAAAPA/IWZmZmZmBn9AGhsJAAAAAAAA8D8RAAAAAAAA8D8hZmZmZmYGf0AgAUDkJhHNIMmxJOpVwBl2wG6nj6uxPykAAADgePpVwDEAAAAgiOhVwDkAAACAqORVwEKiAhobCQAAAOB4+lXAEQAAAHBK+FXAIQSLXC0PTnNAGhsJAAAAcEr4VcARAAAAABz2VcAhDLOkB/3H+T8aGwkAAAAAHPZVwBEAAACQ7fNVwCEIs6QH/cf5PxobCQAAAJDt81XAEQAAACC/8VXAITiqiKwgBBFAGhsJAAAAIL/xVcARAAAAsJDvVcAhcMwaHyS/WkAaGwkAAACwkO9VwBEAAABAYu1VwCEYtvy8HD1RQBobCQAAAEBi7VXAEQAAANAz61XAIe/ehzrgaXBAGhsJAAAA0DPrVcARAAAAYAXpVcAhEWRPI+f2k0AaGwkAAABgBelVwBEAAADw1uZVwCFnrQtL5ZqmQBobCQAAAPDW5lXAEQAAAICo5FXAIWFvyvXH9EJAQqQCGhsJAAAA4Hj6VcARAAAAAL/sVcAhZmZmZmYGf0AaGwkAAAAAv+xVwBEAAABgdepVwCFmZmZmZgZ/QBobCQAAAGB16lXAEQAAAECz6VXAIWZmZmZmBn9AGhsJAAAAQLPpVcARAAAAICHpVcAhZmZmZmYGf0AaGwkAAAAgIelVwBEAAAAgiOhVwCFmZmZmZgZ/QBobCQAAACCI6FXAEQAAAIB06FXAIWZmZmZmBn9AGhsJAAAAgHToVcARAAAA4BPoVcAhZmZmZmYGf0AaGwkAAADgE+hVwBEAAADg8edVwCFmZmZmZgZ/QBobCQAAAODx51XAEQAAAKC651XAIWZmZmZmBn9AGhsJAAAAoLrnVcARAAAAgKjkVcAhZmZmZmYGf0AgAQ==\"></facets-overview>';\n",
       "        facets_iframe.contentWindow.document.write(facets_html);\n",
       "         facets_iframe.id = \"\";\n",
       "         setTimeout(() => {\n",
       "           facets_iframe.setAttribute('height', facets_iframe.contentWindow.document.body.offsetHeight + 'px')\n",
       "         }, 1500)\n",
       "         </script>"
      ],
      "text/plain": [
       "<IPython.core.display.HTML object>"
      ]
     },
     "metadata": {},
     "output_type": "display_data"
    }
   ],
   "source": [
    "tfdv.visualize_statistics(train_stats)"
   ]
  },
  {
   "cell_type": "code",
   "execution_count": 19,
   "metadata": {},
   "outputs": [
    {
     "data": {
      "text/plain": [
       "feature {\n",
       "  name: \"trip_start_timestamp\"\n",
       "  type: INT\n",
       "  presence {\n",
       "    min_fraction: 1.0\n",
       "    min_count: 1\n",
       "  }\n",
       "  shape {\n",
       "    dim {\n",
       "      size: 1\n",
       "    }\n",
       "  }\n",
       "}\n",
       "feature {\n",
       "  name: \"fare\"\n",
       "  type: FLOAT\n",
       "  presence {\n",
       "    min_fraction: 1.0\n",
       "    min_count: 1\n",
       "  }\n",
       "  shape {\n",
       "    dim {\n",
       "      size: 1\n",
       "    }\n",
       "  }\n",
       "}\n",
       "feature {\n",
       "  name: \"trip_start_day\"\n",
       "  type: INT\n",
       "  presence {\n",
       "    min_fraction: 1.0\n",
       "    min_count: 1\n",
       "  }\n",
       "  shape {\n",
       "    dim {\n",
       "      size: 1\n",
       "    }\n",
       "  }\n",
       "}\n",
       "feature {\n",
       "  name: \"pickup_community_area\"\n",
       "  type: INT\n",
       "  presence {\n",
       "    min_fraction: 1.0\n",
       "    min_count: 1\n",
       "  }\n",
       "  shape {\n",
       "    dim {\n",
       "      size: 1\n",
       "    }\n",
       "  }\n",
       "}\n",
       "feature {\n",
       "  name: \"dropoff_longitude\"\n",
       "  value_count {\n",
       "    min: 1\n",
       "    max: 1\n",
       "  }\n",
       "  type: FLOAT\n",
       "  presence {\n",
       "    min_count: 1\n",
       "  }\n",
       "}\n",
       "feature {\n",
       "  name: \"pickup_census_tract\"\n",
       "  type: BYTES\n",
       "  presence {\n",
       "    min_count: 0\n",
       "  }\n",
       "}\n",
       "feature {\n",
       "  name: \"trip_start_hour\"\n",
       "  type: INT\n",
       "  presence {\n",
       "    min_fraction: 1.0\n",
       "    min_count: 1\n",
       "  }\n",
       "  shape {\n",
       "    dim {\n",
       "      size: 1\n",
       "    }\n",
       "  }\n",
       "}\n",
       "feature {\n",
       "  name: \"pickup_latitude\"\n",
       "  type: FLOAT\n",
       "  presence {\n",
       "    min_fraction: 1.0\n",
       "    min_count: 1\n",
       "  }\n",
       "  shape {\n",
       "    dim {\n",
       "      size: 1\n",
       "    }\n",
       "  }\n",
       "}\n",
       "feature {\n",
       "  name: \"dropoff_community_area\"\n",
       "  value_count {\n",
       "    min: 1\n",
       "    max: 1\n",
       "  }\n",
       "  type: FLOAT\n",
       "  presence {\n",
       "    min_count: 1\n",
       "  }\n",
       "}\n",
       "feature {\n",
       "  name: \"tips\"\n",
       "  type: FLOAT\n",
       "  presence {\n",
       "    min_fraction: 1.0\n",
       "    min_count: 1\n",
       "  }\n",
       "  shape {\n",
       "    dim {\n",
       "      size: 1\n",
       "    }\n",
       "  }\n",
       "}\n",
       "feature {\n",
       "  name: \"company\"\n",
       "  value_count {\n",
       "    min: 1\n",
       "    max: 1\n",
       "  }\n",
       "  type: BYTES\n",
       "  domain: \"company\"\n",
       "  presence {\n",
       "    min_count: 1\n",
       "  }\n",
       "}\n",
       "feature {\n",
       "  name: \"dropoff_census_tract\"\n",
       "  value_count {\n",
       "    min: 1\n",
       "    max: 1\n",
       "  }\n",
       "  type: FLOAT\n",
       "  presence {\n",
       "    min_count: 1\n",
       "  }\n",
       "}\n",
       "feature {\n",
       "  name: \"trip_miles\"\n",
       "  type: FLOAT\n",
       "  presence {\n",
       "    min_fraction: 1.0\n",
       "    min_count: 1\n",
       "  }\n",
       "  shape {\n",
       "    dim {\n",
       "      size: 1\n",
       "    }\n",
       "  }\n",
       "}\n",
       "feature {\n",
       "  name: \"dropoff_latitude\"\n",
       "  value_count {\n",
       "    min: 1\n",
       "    max: 1\n",
       "  }\n",
       "  type: FLOAT\n",
       "  presence {\n",
       "    min_count: 1\n",
       "  }\n",
       "}\n",
       "feature {\n",
       "  name: \"trip_start_month\"\n",
       "  type: INT\n",
       "  presence {\n",
       "    min_fraction: 1.0\n",
       "    min_count: 1\n",
       "  }\n",
       "  shape {\n",
       "    dim {\n",
       "      size: 1\n",
       "    }\n",
       "  }\n",
       "}\n",
       "feature {\n",
       "  name: \"payment_type\"\n",
       "  type: BYTES\n",
       "  domain: \"payment_type\"\n",
       "  presence {\n",
       "    min_fraction: 1.0\n",
       "    min_count: 1\n",
       "  }\n",
       "  shape {\n",
       "    dim {\n",
       "      size: 1\n",
       "    }\n",
       "  }\n",
       "}\n",
       "feature {\n",
       "  name: \"trip_seconds\"\n",
       "  value_count {\n",
       "    min: 1\n",
       "    max: 1\n",
       "  }\n",
       "  type: FLOAT\n",
       "  presence {\n",
       "    min_count: 1\n",
       "  }\n",
       "}\n",
       "feature {\n",
       "  name: \"pickup_longitude\"\n",
       "  type: FLOAT\n",
       "  presence {\n",
       "    min_fraction: 1.0\n",
       "    min_count: 1\n",
       "  }\n",
       "  shape {\n",
       "    dim {\n",
       "      size: 1\n",
       "    }\n",
       "  }\n",
       "}\n",
       "string_domain {\n",
       "  name: \"company\"\n",
       "  value: \"1085 - 72312 N and W Cab Co\"\n",
       "  value: \"2192 - Zeymane Corp\"\n",
       "  value: \"2809 - 95474 C & D Cab Co Inc.\"\n",
       "  value: \"3011 - 66308 JBL Cab Inc.\"\n",
       "  value: \"3201 - C&D Cab Co Inc\"\n",
       "  value: \"3897 - 57856 Ilie Malec\"\n",
       "  value: \"4197 - 41842 Royal Star\"\n",
       "  value: \"4615 - Tyrone Henderson\"\n",
       "  value: \"5006 - 39261 Salifu Bawa\"\n",
       "  value: \"5074 - 54002 Ahzmi Inc\"\n",
       "  value: \"5129 - 87128\"\n",
       "  value: \"5129 - 98755 Mengisti Taxi\"\n",
       "  value: \"5129 - Mengisti Taxi\"\n",
       "  value: \"585 - Valley Cab Co\"\n",
       "  value: \"5874 - Sergey Cab Corp.\"\n",
       "  value: \"5997 - AW Services Inc.\"\n",
       "  value: \"6057 - 24657 Richard Addo\"\n",
       "  value: \"6574 - Babylon Express Inc.\"\n",
       "  value: \"6743 - Luhak Corp\"\n",
       "  value: \"Blue Ribbon Taxi Association Inc.\"\n",
       "  value: \"C & D Cab Co Inc\"\n",
       "  value: \"Chicago Elite Cab Corp.\"\n",
       "  value: \"Chicago Elite Cab Corp. (Chicago Carriag\"\n",
       "  value: \"Chicago Medallion Leasing INC\"\n",
       "  value: \"Chicago Medallion Management\"\n",
       "  value: \"Choice Taxi Association\"\n",
       "  value: \"Dispatch Taxi Affiliation\"\n",
       "  value: \"KOAM Taxi Association\"\n",
       "  value: \"Northwest Management LLC\"\n",
       "  value: \"Taxi Affiliation Services\"\n",
       "  value: \"Top Cab Affiliation\"\n",
       "}\n",
       "string_domain {\n",
       "  name: \"payment_type\"\n",
       "  value: \"Cash\"\n",
       "  value: \"Credit Card\"\n",
       "  value: \"No Charge\"\n",
       "  value: \"Pcard\"\n",
       "  value: \"Unknown\"\n",
       "}"
      ]
     },
     "execution_count": 19,
     "metadata": {},
     "output_type": "execute_result"
    }
   ],
   "source": [
    "schema = tfdv.infer_schema(train_stats)\n",
    "schema"
   ]
  }
 ],
 "metadata": {
  "kernelspec": {
   "display_name": "Python 3",
   "language": "python",
   "name": "python3"
  },
  "language_info": {
   "codemirror_mode": {
    "name": "ipython",
    "version": 3
   },
   "file_extension": ".py",
   "mimetype": "text/x-python",
   "name": "python",
   "nbconvert_exporter": "python",
   "pygments_lexer": "ipython3",
   "version": "3.5.2"
  },
  "pycharm": {
   "stem_cell": {
    "cell_type": "raw",
    "metadata": {
     "collapsed": false
    },
    "source": []
   }
  }
 },
 "nbformat": 4,
 "nbformat_minor": 2
}
